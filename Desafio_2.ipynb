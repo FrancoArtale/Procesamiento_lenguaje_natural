{
 "cells": [
  {
   "cell_type": "markdown",
   "metadata": {},
   "source": [
    "#### Librerias"
   ]
  },
  {
   "cell_type": "code",
   "execution_count": 105,
   "metadata": {},
   "outputs": [],
   "source": [
    "import nltk\n",
    "from nltk.tokenize import word_tokenize  \n",
    "from nltk.corpus import stopwords\n",
    "from nltk.corpus import gutenberg\n",
    "from nltk.stem import WordNetLemmatizer\n",
    "\n",
    "from sklearn.manifold import TSNE                   \n",
    "import numpy as np       \n",
    "\n",
    "from string import punctuation\n",
    "from gensim.models import Word2Vec"
   ]
  },
  {
   "cell_type": "markdown",
   "metadata": {},
   "source": [
    "#### Vamos a usar el copus del project gutenberg\n",
    "El Project Gutenberg es un esfuerzo voluntario de digitalización de mas de 70000 libros gratuitos (dominio publico)."
   ]
  },
  {
   "cell_type": "code",
   "execution_count": 106,
   "metadata": {},
   "outputs": [
    {
     "name": "stderr",
     "output_type": "stream",
     "text": [
      "[nltk_data] Downloading package gutenberg to\n",
      "[nltk_data]     C:\\Users\\franco\\AppData\\Roaming\\nltk_data...\n",
      "[nltk_data]   Package gutenberg is already up-to-date!\n"
     ]
    },
    {
     "data": {
      "text/plain": [
       "'Project Gutenberg Selections http://gutenberg.net/  This corpus contains etexts from from Project Gutenberg, by the following authors:  * Jane Austen (3) * William Blake (2) * Thornton W. Burgess * Sarah Cone Bryant * Lewis Carroll * G. K. Chesterton (3) * Maria Edgeworth * King James Bible * Herman Melville * John Milton * William Shakespeare (3) * Walt Whitman  The beginning of the body of each book could not be identified automatically, so the semi-generic header of each file has been removed, and included below. Some source files ended with a line \"End of The Project Gutenberg Etext...\", and this has been deleted.  Information about Project Gutenberg (one page)  We produce about two million dollars for each hour we work.  The fifty hours is one conservative estimate for how long it we take to get any etext selected, entered, proofread, edited, copyright searched and analyzed, the copyright letters written, etc.  This projected audience is one hundred million readers.  If our value per text is nominally estimated at one dollar, then we produce 2 million dollars per hour this year we, will have to do four text files per month:  thus upping our productivity from one million. The Goal of Project Gutenberg is to Give Away One Trillion Etext Files by the December 31, 2001.  [10,000 x 100,000,000=Trillion] This is ten thousand titles each to one hundred million readers, which is 10% of the expected number of computer users by the end of the year 2001.  We need your donations more than ever!  All donations should be made to \"Project Gutenberg/IBC\", and are tax deductible to the extent allowable by law (\"IBC\" is Illinois Benedictine College).  (Subscriptions to our paper newsletter go to IBC, too)  For these and other matters, please mail to:  Project Gutenberg P. O. Box  2782 Champaign, IL 61825  When all other email fails try our Michael S. Hart, Executive Director: hart@vmd.cso.uiuc.edu (internet)   hart@uiucvmd   (bitnet)  We would prefer to send you this information by email (Internet, Bitnet, Compuserve, ATTMAIL or MCImail).  ****** If you have an FTP program (or emulator), please FTP directly to the Project Gutenberg archives: [Mac users, do NOT point and click. . .type]  ftp mrcnext.cso.uiuc.edu login:  anonymous password:  your@login cd etext/etext91 or cd etext92 or cd etext93 [for new books]  [now also in cd etext/etext93] or cd etext/articles [get suggest gut for more information] dir [to see files] get or mget [to get files. . .set bin for zip files] get INDEX100.GUT get INDEX200.GUT for a list of books and get NEW.GUT for general information and mget GUT* for newsletters.  **Information prepared by the Project Gutenberg legal advisor** (Three Pages)   ***START**THE SMALL PRINT!**FOR PUBLIC DOMAIN ETEXTS**START*** Why is this \"Small Print!\" statement here?  You know: lawyers. They tell us you might sue us if there is something wrong with your copy of this etext, even if you got it for free from someone other than us, and even if what\\'s wrong is not our fault.  So, among other things, this \"Small Print!\" statement disclaims most of our liability to you.  It also tells you how you can distribute copies of this etext if you want to.  *BEFORE!* YOU USE OR READ THIS ETEXT By using or reading any part of this PROJECT GUTENBERG-tm etext, you indicate that you understand, agree to and accept this \"Small Print!\" statement.  If you do not, you can receive a refund of the money (if any) you paid for this etext by sending a request within 30 days of receiving it to the person you got it from.  If you received this etext on a physical medium (such as a disk), you must return it with your request.  ABOUT PROJECT GUTENBERG-TM ETEXTS This PROJECT GUTENBERG-tm etext, like most PROJECT GUTENBERG- tm etexts, is a \"public domain\" work distributed by Professor Michael S. Hart through the Project Gutenberg Association at Illinois Benedictine College (the \"Project\").  Among other things, this means that no one owns a United States copyright on or for this work, so the Project (and you!) can copy and distribute it in the United States without permission and without paying copyright royalties.  Special rules, set forth below, apply if you wish to copy and distribute this etext under the Project\\'s \"PROJECT GUTENBERG\" trademark.  To create these etexts, the Project expends considerable efforts to identify, transcribe and proofread public domain works.  Despite these efforts, the Project\\'s etexts and any medium they may be on may contain \"Defects\".  Among other things, Defects may take the form of incomplete, inaccurate or corrupt data, transcription errors, a copyright or other intellectual property infringement, a defective or damaged disk or other etext medium, a computer virus, or computer codes that damage or cannot be read by your equipment.  LIMITED WARRANTY; DISCLAIMER OF DAMAGES But for the \"Right of Replacement or Refund\" described below, [1] the Project (and any other party you may receive this etext from as a PROJECT GUTENBERG-tm etext) disclaims all liability to you for damages, costs and expenses, including legal fees, and [2] YOU HAVE NO REMEDIES FOR NEGLIGENCE OR UNDER STRICT LIABILITY, OR FOR BREACH OF WARRANTY OR CONTRACT, INCLUDING BUT NOT LIMITED TO INDIRECT, CONSEQUENTIAL, PUNITIVE OR INCIDENTAL DAMAGES, EVEN IF YOU GIVE NOTICE OF THE POSSIBILITY OF SUCH DAMAGES.  If you discover a Defect in this etext within 90 days of receiving it, you can receive a refund of the money (if any) you paid for it by sending an explanatory note within that time to the person you received it from.  If you received it on a physical medium, you must return it with your note, and such person may choose to alternatively give you a replacement copy.  If you received it electronically, such person may choose to alternatively give you a second opportunity to receive it electronically.  THIS ETEXT IS OTHERWISE PROVIDED TO YOU \"AS-IS\".  NO OTHER WARRANTIES OF ANY KIND, EXPRESS OR IMPLIED, ARE MADE TO YOU AS TO THE ETEXT OR ANY MEDIUM IT MAY BE ON, INCLUDING BUT NOT LIMITED TO WARRANTIES OF MERCHANTABILITY OR FITNESS FOR A PARTICULAR PURPOSE.  Some states do not allow disclaimers of implied warranties or the exclusion or limitation of consequential damages, so the above disclaimers and exclusions may not apply to you, and you may have other legal rights.  INDEMNITY You will indemnify and hold the Project, its directors, officers, members and agents harmless from all liability, cost and expense, including legal fees, that arise directly or indirectly from any of the following that you do or cause: [1] distribution of this etext, [2] alteration, modification, or addition to the etext, or [3] any Defect.  DISTRIBUTION UNDER \"PROJECT GUTENBERG-tm\" You may distribute copies of this etext electronically, or by disk, book or any other medium if you either delete this \"Small Print!\" and all other references to Project Gutenberg, or:  [1]  Only give exact copies of it.  Among other things, this      requires that you do not remove, alter or modify the      etext or this \"small print!\" statement.  You may however,      if you wish, distribute this etext in machine readable      binary, compressed, mark-up, or proprietary form,      including any form resulting from conversion by word pro-      cessing or hypertext software, but only so long as      *EITHER*:       [*]  The etext, when displayed, is clearly readable, and           does *not* contain characters other than those           intended by the author of the work, although tilde           (~), asterisk (*) and underline (_) characters may           be used to convey punctuation intended by the           author, and additional characters may be used to           indicate hypertext links; OR       [*]  The etext may be readily converted by the reader at           no expense into plain ASCII, EBCDIC or equivalent           form by the program that displays the etext (as is           the case, for instance, with most word processors);           OR       [*]  You provide, or agree to also provide on request at           no additional cost, fee or expense, a copy of the           etext in its original plain ASCII form (or in EBCDIC           or other equivalent proprietary form).  [2]  Honor the etext refund and replacement provisions of this      \"Small Print!\" statement.  [3]  Pay a trademark license fee to the Project of 20% of the      net profits you derive calculated using the method you      already use to calculate your applicable taxes.  If you      don\\'t derive profits, no royalty is due.  Royalties are      payable to \"Project Gutenberg Association / Illinois      Benedictine College\" within the 60 days following each      date you prepare (or were legally required to prepare)      your annual (or equivalent periodic) tax return.  WHAT IF YOU *WANT* TO SEND MONEY EVEN IF YOU DON\\'T HAVE TO? The Project gratefully accepts contributions in money, time, scanning machines, OCR software, public domain etexts, royalty free copyright licenses, and every other sort of contribution you can think of.  Money should be paid to \"Project Gutenberg Association / Illinois Benedictine College\".  This \"Small Print!\" by Charles B. Kramer, Attorney Internet (72600.2026@compuserve.com); TEL: (212-254-5093) *END*THE SMALL PRINT! FOR PUBLIC DOMAIN ETEXTS*Ver.04.29.93*END* '"
      ]
     },
     "execution_count": 106,
     "metadata": {},
     "output_type": "execute_result"
    }
   ],
   "source": [
    "nltk.download('gutenberg')\n",
    "gutenberg.readme().replace('\\n', ' ')"
   ]
  },
  {
   "cell_type": "code",
   "execution_count": 107,
   "metadata": {},
   "outputs": [
    {
     "data": {
      "text/plain": [
       "['austen-emma.txt',\n",
       " 'austen-persuasion.txt',\n",
       " 'austen-sense.txt',\n",
       " 'bible-kjv.txt',\n",
       " 'blake-poems.txt',\n",
       " 'bryant-stories.txt',\n",
       " 'burgess-busterbrown.txt',\n",
       " 'carroll-alice.txt',\n",
       " 'chesterton-ball.txt',\n",
       " 'chesterton-brown.txt',\n",
       " 'chesterton-thursday.txt',\n",
       " 'edgeworth-parents.txt',\n",
       " 'melville-moby_dick.txt',\n",
       " 'milton-paradise.txt',\n",
       " 'shakespeare-caesar.txt',\n",
       " 'shakespeare-hamlet.txt',\n",
       " 'shakespeare-macbeth.txt',\n",
       " 'whitman-leaves.txt']"
      ]
     },
     "execution_count": 107,
     "metadata": {},
     "output_type": "execute_result"
    }
   ],
   "source": [
    "gutenberg.fileids()"
   ]
  },
  {
   "cell_type": "code",
   "execution_count": 108,
   "metadata": {},
   "outputs": [
    {
     "data": {
      "text/plain": [
       "30103"
      ]
     },
     "execution_count": 108,
     "metadata": {},
     "output_type": "execute_result"
    }
   ],
   "source": [
    "bible_kjv_sents = gutenberg.sents('bible-kjv.txt')\n",
    "len(bible_kjv_sents)"
   ]
  },
  {
   "cell_type": "markdown",
   "metadata": {},
   "source": [
    "#### Prepocesamiento"
   ]
  },
  {
   "cell_type": "code",
   "execution_count": 109,
   "metadata": {},
   "outputs": [],
   "source": [
    "# creamos un objeto lemmatizador\n",
    "lemmatizer = WordNetLemmatizer()\n",
    "\n",
    "# No hace falta tokenizar, ya viene tokenizado el corpus\n",
    "\n",
    "# Lemmatization\n",
    "nltk_lemmaList = []\n",
    "for sent in bible_kjv_sents:\n",
    "    lemmatized_sent = [lemmatizer.lemmatize(word) for word in sent]\n",
    "    nltk_lemmaList.append(lemmatized_sent)\n",
    "\n",
    "# quitamos los signos de puntuacion\n",
    "nltk_punctuation = [[word for word in sent if word not in punctuation] for sent in nltk_lemmaList] \n",
    "\n",
    "# Filtramos stopwords\n",
    "nltk_stop_words = set(stopwords.words(\"english\"))\n",
    "discard_punctuation_and_lowercased_sents = [[word for word in sent if word not in nltk_stop_words] for sent in nltk_punctuation] "
   ]
  },
  {
   "cell_type": "code",
   "execution_count": 110,
   "metadata": {},
   "outputs": [
    {
     "data": {
      "text/plain": [
       "(['1', '1', 'In', 'beginning', 'God', 'created', 'heaven', 'earth'],\n",
       " 30103,\n",
       " list)"
      ]
     },
     "execution_count": 110,
     "metadata": {},
     "output_type": "execute_result"
    }
   ],
   "source": [
    "discard_punctuation_and_lowercased_sents[3], len(discard_punctuation_and_lowercased_sents), type(discard_punctuation_and_lowercased_sents)"
   ]
  },
  {
   "cell_type": "markdown",
   "metadata": {},
   "source": [
    "#### Aplicamos el Word2Vec"
   ]
  },
  {
   "cell_type": "code",
   "execution_count": 112,
   "metadata": {},
   "outputs": [],
   "source": [
    "from gensim.models.callbacks import CallbackAny2Vec\n",
    "# Durante el entrenamiento gensim por defecto no informa el \"loss\" en cada época\n",
    "# Sobrecargamos el callback para poder tener esta información\n",
    "class callback(CallbackAny2Vec):\n",
    "    \"\"\"\n",
    "    Callback to print loss after each epoch\n",
    "    \"\"\"\n",
    "    def __init__(self):\n",
    "        self.epoch = 0\n",
    "\n",
    "    def on_epoch_end(self, model):\n",
    "        loss = model.get_latest_training_loss()\n",
    "        if self.epoch == 0:\n",
    "            print('Loss after epoch {}: {}'.format(self.epoch, loss))\n",
    "        else:\n",
    "            print('Loss after epoch {}: {}'.format(self.epoch, loss- self.loss_previous_step))\n",
    "        self.epoch += 1\n",
    "        self.loss_previous_step = loss"
   ]
  },
  {
   "cell_type": "code",
   "execution_count": 113,
   "metadata": {},
   "outputs": [],
   "source": [
    "# Crearmos el modelo generador de vectores\n",
    "# En este caso utilizaremos la estructura modelo Skipgram\n",
    "w2v_model = Word2Vec(min_count=5,    # frecuencia mínima de palabra para incluirla en el vocabulario\n",
    "                     window=2,       # cant de palabras antes y desp de la predicha\n",
    "                     vector_size=300,# dimensionalidad de los vectores \n",
    "                     negative=20,    # cantidad de negative samples... 0 es no se usa\n",
    "                     workers=1,      # si tienen más cores pueden cambiar este valor\n",
    "                     sg=1)           # modelo 0:CBOW  1:skipgram"
   ]
  },
  {
   "cell_type": "code",
   "execution_count": 114,
   "metadata": {},
   "outputs": [],
   "source": [
    "# Obtener el vocabulario con los tokens\n",
    "w2v_model.build_vocab(discard_punctuation_and_lowercased_sents)"
   ]
  },
  {
   "cell_type": "code",
   "execution_count": 115,
   "metadata": {},
   "outputs": [
    {
     "name": "stdout",
     "output_type": "stream",
     "text": [
      "Cantidad de docs en el corpus: 30103\n"
     ]
    }
   ],
   "source": [
    "# Cantidad de filas/docs encontradas en el corpus\n",
    "print(\"Cantidad de docs en el corpus:\", w2v_model.corpus_count)"
   ]
  },
  {
   "cell_type": "code",
   "execution_count": 116,
   "metadata": {},
   "outputs": [
    {
     "name": "stdout",
     "output_type": "stream",
     "text": [
      "Cantidad de words distintas en el corpus: 5194\n"
     ]
    }
   ],
   "source": [
    "# Cantidad de words encontradas en el corpus\n",
    "print(\"Cantidad de words distintas en el corpus:\", len(w2v_model.wv.index_to_key))"
   ]
  },
  {
   "cell_type": "markdown",
   "metadata": {},
   "source": [
    "#### 3. Entrenamos los embeddings:"
   ]
  },
  {
   "cell_type": "code",
   "execution_count": 117,
   "metadata": {},
   "outputs": [
    {
     "name": "stdout",
     "output_type": "stream",
     "text": [
      "Loss after epoch 0: 3659396.5\n",
      "Loss after epoch 1: 2763785.0\n",
      "Loss after epoch 2: 2622472.5\n",
      "Loss after epoch 3: 2464285.0\n",
      "Loss after epoch 4: 2421884.0\n",
      "Loss after epoch 5: 2388022.0\n",
      "Loss after epoch 6: 2248577.0\n",
      "Loss after epoch 7: 2188622.0\n",
      "Loss after epoch 8: 2164584.0\n",
      "Loss after epoch 9: 2140060.0\n",
      "Loss after epoch 10: 2111640.0\n",
      "Loss after epoch 11: 2094198.0\n",
      "Loss after epoch 12: 2078950.0\n",
      "Loss after epoch 13: 2061242.0\n",
      "Loss after epoch 14: 1850946.0\n",
      "Loss after epoch 15: 1819236.0\n",
      "Loss after epoch 16: 1802684.0\n",
      "Loss after epoch 17: 1791264.0\n",
      "Loss after epoch 18: 1780148.0\n",
      "Loss after epoch 19: 1766968.0\n",
      "Loss after epoch 20: 1758096.0\n",
      "Loss after epoch 21: 1749408.0\n",
      "Loss after epoch 22: 1747464.0\n",
      "Loss after epoch 23: 1739832.0\n",
      "Loss after epoch 24: 1730104.0\n",
      "Loss after epoch 25: 1729268.0\n",
      "Loss after epoch 26: 1719912.0\n",
      "Loss after epoch 27: 1719748.0\n",
      "Loss after epoch 28: 1717360.0\n",
      "Loss after epoch 29: 1708668.0\n",
      "Loss after epoch 30: 1711320.0\n",
      "Loss after epoch 31: 1707608.0\n",
      "Loss after epoch 32: 1701500.0\n",
      "Loss after epoch 33: 803884.0\n",
      "Loss after epoch 34: 483792.0\n",
      "Loss after epoch 35: 476920.0\n",
      "Loss after epoch 36: 478240.0\n",
      "Loss after epoch 37: 474512.0\n",
      "Loss after epoch 38: 469312.0\n",
      "Loss after epoch 39: 467032.0\n",
      "Loss after epoch 40: 462728.0\n",
      "Loss after epoch 41: 458944.0\n",
      "Loss after epoch 42: 456672.0\n",
      "Loss after epoch 43: 451784.0\n",
      "Loss after epoch 44: 448872.0\n",
      "Loss after epoch 45: 446824.0\n",
      "Loss after epoch 46: 444328.0\n",
      "Loss after epoch 47: 439304.0\n",
      "Loss after epoch 48: 436528.0\n",
      "Loss after epoch 49: 432552.0\n",
      "Loss after epoch 50: 430672.0\n",
      "Loss after epoch 51: 425528.0\n",
      "Loss after epoch 52: 422984.0\n",
      "Loss after epoch 53: 422248.0\n",
      "Loss after epoch 54: 418520.0\n",
      "Loss after epoch 55: 412984.0\n",
      "Loss after epoch 56: 411240.0\n",
      "Loss after epoch 57: 411072.0\n",
      "Loss after epoch 58: 406656.0\n",
      "Loss after epoch 59: 401072.0\n",
      "Loss after epoch 60: 401320.0\n",
      "Loss after epoch 61: 396632.0\n",
      "Loss after epoch 62: 394512.0\n",
      "Loss after epoch 63: 390136.0\n",
      "Loss after epoch 64: 389080.0\n",
      "Loss after epoch 65: 385184.0\n",
      "Loss after epoch 66: 381024.0\n",
      "Loss after epoch 67: 380768.0\n",
      "Loss after epoch 68: 373704.0\n",
      "Loss after epoch 69: 371024.0\n",
      "Loss after epoch 70: 367368.0\n",
      "Loss after epoch 71: 365360.0\n",
      "Loss after epoch 72: 364240.0\n",
      "Loss after epoch 73: 358752.0\n",
      "Loss after epoch 74: 356208.0\n",
      "Loss after epoch 75: 357144.0\n",
      "Loss after epoch 76: 351696.0\n",
      "Loss after epoch 77: 346784.0\n",
      "Loss after epoch 78: 343160.0\n",
      "Loss after epoch 79: 342416.0\n",
      "Loss after epoch 80: 338408.0\n",
      "Loss after epoch 81: 334696.0\n",
      "Loss after epoch 82: 332312.0\n",
      "Loss after epoch 83: 329800.0\n",
      "Loss after epoch 84: 327512.0\n",
      "Loss after epoch 85: 322048.0\n",
      "Loss after epoch 86: 321968.0\n",
      "Loss after epoch 87: 319528.0\n",
      "Loss after epoch 88: 314512.0\n",
      "Loss after epoch 89: 314592.0\n",
      "Loss after epoch 90: 307936.0\n",
      "Loss after epoch 91: 304912.0\n",
      "Loss after epoch 92: 302320.0\n",
      "Loss after epoch 93: 297632.0\n",
      "Loss after epoch 94: 296552.0\n",
      "Loss after epoch 95: 294848.0\n",
      "Loss after epoch 96: 290352.0\n",
      "Loss after epoch 97: 289520.0\n",
      "Loss after epoch 98: 285744.0\n",
      "Loss after epoch 99: 284000.0\n"
     ]
    },
    {
     "data": {
      "text/plain": [
       "(38907983, 48070500)"
      ]
     },
     "execution_count": 117,
     "metadata": {},
     "output_type": "execute_result"
    }
   ],
   "source": [
    "# Entrenamos el modelo generador de vectores\n",
    "# Utilizamos nuestro callback\n",
    "w2v_model.train(discard_punctuation_and_lowercased_sents,\n",
    "                 total_examples=w2v_model.corpus_count,\n",
    "                 epochs=100,\n",
    "                 compute_loss = True,\n",
    "                 callbacks=[callback()]\n",
    "                 )"
   ]
  },
  {
   "cell_type": "markdown",
   "metadata": {},
   "source": [
    "#### 4- Ensayar:"
   ]
  },
  {
   "cell_type": "code",
   "execution_count": 118,
   "metadata": {},
   "outputs": [
    {
     "data": {
      "text/plain": [
       "[('goddess', 0.3828221261501312),\n",
       " ('Chemosh', 0.3552262783050537),\n",
       " ('wizard', 0.35330474376678467),\n",
       " ('Baalim', 0.34227436780929565),\n",
       " ('Diana', 0.33017948269844055),\n",
       " ('invention', 0.32000359892845154),\n",
       " ('graven', 0.3120911121368408),\n",
       " ('Baal', 0.30943194031715393),\n",
       " ('Ashtaroth', 0.3084787130355835),\n",
       " ('molten', 0.30496612191200256)]"
      ]
     },
     "execution_count": 118,
     "metadata": {},
     "output_type": "execute_result"
    }
   ],
   "source": [
    "# Palabras que MÁS se relacionan con...:\n",
    "w2v_model.wv.most_similar(positive=[\"god\"], topn=10)"
   ]
  },
  {
   "cell_type": "markdown",
   "metadata": {},
   "source": [
    "Si vemos lo que significa cada palabras, encontramos cierta relación:\n",
    "- goddess --> dios (femenino).\n",
    "- Chemosh --> El nombre de un dios.\n",
    "- Baal --> dios de la lluvia.\n",
    "- Ashtaroth --> angel."
   ]
  },
  {
   "cell_type": "code",
   "execution_count": 119,
   "metadata": {},
   "outputs": [
    {
     "data": {
      "text/plain": [
       "[('Ham', 0.11829181760549545),\n",
       " ('blasting', 0.09445411711931229),\n",
       " ('whereas', 0.09057194739580154),\n",
       " ('cutteth', 0.07329064607620239),\n",
       " ('spared', 0.06312417984008789),\n",
       " ('nativity', 0.05512280389666557),\n",
       " ('hewn', 0.053010016679763794),\n",
       " ('reigned', 0.052299514412879944),\n",
       " ('beareth', 0.04619838669896126),\n",
       " ('divided', 0.042498137801885605)]"
      ]
     },
     "execution_count": 119,
     "metadata": {},
     "output_type": "execute_result"
    }
   ],
   "source": [
    "# Palabras que MENOS se relacionan con...:\n",
    "w2v_model.wv.most_similar(negative=[\"prayer\"], topn=10)"
   ]
  },
  {
   "cell_type": "markdown",
   "metadata": {},
   "source": [
    "Si vemos lo que significa cada palabras, encontramos que son de relación inversa y también de poca relación:\n",
    "- Ham --> Hijo de Noe, fue maldecido por Noe, puede conciderarse como un no orador (orador = positivo, Ham = negativo).  \n",
    "El resto de las palabras tienen muy poca coincidencia como es de esperarse."
   ]
  },
  {
   "cell_type": "code",
   "execution_count": 120,
   "metadata": {},
   "outputs": [
    {
     "data": {
      "text/plain": [
       "[('offering', 0.38425588607788086),\n",
       " ('burnt', 0.3665766417980194),\n",
       " ('offer', 0.3520657420158386),\n",
       " ('offereth', 0.33148008584976196),\n",
       " ('sacrificed', 0.31127694249153137),\n",
       " ('fatlings', 0.30801793932914734),\n",
       " ('burn', 0.3022218346595764),\n",
       " ('savoury', 0.29598313570022583),\n",
       " ('draught', 0.2881058156490326),\n",
       " ('oblation', 0.28479206562042236)]"
      ]
     },
     "execution_count": 120,
     "metadata": {},
     "output_type": "execute_result"
    }
   ],
   "source": [
    "# Palabras que MÁS se relacionan con...:\n",
    "w2v_model.wv.most_similar(positive=[\"sacrifice\"], topn=10)"
   ]
  },
  {
   "cell_type": "markdown",
   "metadata": {},
   "source": [
    "Si vemos lo que significa cada palabras, encontramos cierta relación:\n",
    "- offering, offer, offereth --> ofrecer, puede ser ofrecer un sacrifio.\n",
    "- burnt --> se puede quemar al sacrificio.  \n",
    "- sacrificed --> esta palabra esta muy relaciona. "
   ]
  },
  {
   "cell_type": "code",
   "execution_count": 146,
   "metadata": {},
   "outputs": [
    {
     "data": {
      "text/plain": [
       "[('grate', 0.4143572151660919),\n",
       " ('laver', 0.34282809495925903),\n",
       " ('tip', 0.33003225922584534),\n",
       " ('shittim', 0.32814842462539673),\n",
       " ('superscription', 0.32796451449394226),\n",
       " ('socket', 0.327086865901947),\n",
       " ('sprinkle', 0.3238252103328705),\n",
       " ('badger', 0.32369059324264526),\n",
       " ('board', 0.3221045136451721),\n",
       " ('fleshhooks', 0.32057031989097595)]"
      ]
     },
     "execution_count": 146,
     "metadata": {},
     "output_type": "execute_result"
    }
   ],
   "source": [
    "# Palabras que MÁS se relacionan con...:\n",
    "w2v_model.wv.most_similar(positive=[\"altar\"], topn=10)"
   ]
  },
  {
   "cell_type": "markdown",
   "metadata": {},
   "source": [
    "- fleshhooks (ganchos de carne)--> me parece que podría estar en un altar de sacrificios.\n",
    "- board --> podría haber tableros en un altar.  \n",
    "Igualmente en estos resultados no encuentro mucha proximidad. "
   ]
  },
  {
   "cell_type": "code",
   "execution_count": 122,
   "metadata": {},
   "outputs": [
    {
     "ename": "KeyError",
     "evalue": "\"Key 'diedaa' not present in vocabulary\"",
     "output_type": "error",
     "traceback": [
      "\u001b[1;31m---------------------------------------------------------------------------\u001b[0m",
      "\u001b[1;31mKeyError\u001b[0m                                  Traceback (most recent call last)",
      "Cell \u001b[1;32mIn[122], line 2\u001b[0m\n\u001b[0;32m      1\u001b[0m \u001b[38;5;66;03m# Ensayar con una palabra que no está en el vocabulario:\u001b[39;00m\n\u001b[1;32m----> 2\u001b[0m \u001b[43mw2v_model\u001b[49m\u001b[38;5;241;43m.\u001b[39;49m\u001b[43mwv\u001b[49m\u001b[38;5;241;43m.\u001b[39;49m\u001b[43mmost_similar\u001b[49m\u001b[43m(\u001b[49m\u001b[43mnegative\u001b[49m\u001b[38;5;241;43m=\u001b[39;49m\u001b[43m[\u001b[49m\u001b[38;5;124;43m\"\u001b[39;49m\u001b[38;5;124;43mdiedaa\u001b[39;49m\u001b[38;5;124;43m\"\u001b[39;49m\u001b[43m]\u001b[49m\u001b[43m)\u001b[49m\n",
      "File \u001b[1;32mc:\\Users\\franco\\OneDrive\\Escritorio\\ESPECIALIZACIO_EN_INTELIGENCIA_ARTIFICIAL\\procesamiento_lenguaje_natural\\nlp\\lib\\site-packages\\gensim\\models\\keyedvectors.py:841\u001b[0m, in \u001b[0;36mKeyedVectors.most_similar\u001b[1;34m(self, positive, negative, topn, clip_start, clip_end, restrict_vocab, indexer)\u001b[0m\n\u001b[0;32m    838\u001b[0m         weight[idx] \u001b[38;5;241m=\u001b[39m item[\u001b[38;5;241m1\u001b[39m]\n\u001b[0;32m    840\u001b[0m \u001b[38;5;66;03m# compute the weighted average of all keys\u001b[39;00m\n\u001b[1;32m--> 841\u001b[0m mean \u001b[38;5;241m=\u001b[39m \u001b[38;5;28;43mself\u001b[39;49m\u001b[38;5;241;43m.\u001b[39;49m\u001b[43mget_mean_vector\u001b[49m\u001b[43m(\u001b[49m\u001b[43mkeys\u001b[49m\u001b[43m,\u001b[49m\u001b[43m \u001b[49m\u001b[43mweight\u001b[49m\u001b[43m,\u001b[49m\u001b[43m \u001b[49m\u001b[43mpre_normalize\u001b[49m\u001b[38;5;241;43m=\u001b[39;49m\u001b[38;5;28;43;01mTrue\u001b[39;49;00m\u001b[43m,\u001b[49m\u001b[43m \u001b[49m\u001b[43mpost_normalize\u001b[49m\u001b[38;5;241;43m=\u001b[39;49m\u001b[38;5;28;43;01mTrue\u001b[39;49;00m\u001b[43m,\u001b[49m\u001b[43m \u001b[49m\u001b[43mignore_missing\u001b[49m\u001b[38;5;241;43m=\u001b[39;49m\u001b[38;5;28;43;01mFalse\u001b[39;49;00m\u001b[43m)\u001b[49m\n\u001b[0;32m    842\u001b[0m all_keys \u001b[38;5;241m=\u001b[39m [\n\u001b[0;32m    843\u001b[0m     \u001b[38;5;28mself\u001b[39m\u001b[38;5;241m.\u001b[39mget_index(key) \u001b[38;5;28;01mfor\u001b[39;00m key \u001b[38;5;129;01min\u001b[39;00m keys \u001b[38;5;28;01mif\u001b[39;00m \u001b[38;5;28misinstance\u001b[39m(key, _KEY_TYPES) \u001b[38;5;129;01mand\u001b[39;00m \u001b[38;5;28mself\u001b[39m\u001b[38;5;241m.\u001b[39mhas_index_for(key)\n\u001b[0;32m    844\u001b[0m ]\n\u001b[0;32m    846\u001b[0m \u001b[38;5;28;01mif\u001b[39;00m indexer \u001b[38;5;129;01mis\u001b[39;00m \u001b[38;5;129;01mnot\u001b[39;00m \u001b[38;5;28;01mNone\u001b[39;00m \u001b[38;5;129;01mand\u001b[39;00m \u001b[38;5;28misinstance\u001b[39m(topn, \u001b[38;5;28mint\u001b[39m):\n",
      "File \u001b[1;32mc:\\Users\\franco\\OneDrive\\Escritorio\\ESPECIALIZACIO_EN_INTELIGENCIA_ARTIFICIAL\\procesamiento_lenguaje_natural\\nlp\\lib\\site-packages\\gensim\\models\\keyedvectors.py:518\u001b[0m, in \u001b[0;36mKeyedVectors.get_mean_vector\u001b[1;34m(self, keys, weights, pre_normalize, post_normalize, ignore_missing)\u001b[0m\n\u001b[0;32m    516\u001b[0m         total_weight \u001b[38;5;241m+\u001b[39m\u001b[38;5;241m=\u001b[39m \u001b[38;5;28mabs\u001b[39m(weights[idx])\n\u001b[0;32m    517\u001b[0m     \u001b[38;5;28;01melif\u001b[39;00m \u001b[38;5;129;01mnot\u001b[39;00m ignore_missing:\n\u001b[1;32m--> 518\u001b[0m         \u001b[38;5;28;01mraise\u001b[39;00m \u001b[38;5;167;01mKeyError\u001b[39;00m(\u001b[38;5;124mf\u001b[39m\u001b[38;5;124m\"\u001b[39m\u001b[38;5;124mKey \u001b[39m\u001b[38;5;124m'\u001b[39m\u001b[38;5;132;01m{\u001b[39;00mkey\u001b[38;5;132;01m}\u001b[39;00m\u001b[38;5;124m'\u001b[39m\u001b[38;5;124m not present in vocabulary\u001b[39m\u001b[38;5;124m\"\u001b[39m)\n\u001b[0;32m    520\u001b[0m \u001b[38;5;28;01mif\u001b[39;00m total_weight \u001b[38;5;241m>\u001b[39m \u001b[38;5;241m0\u001b[39m:\n\u001b[0;32m    521\u001b[0m     mean \u001b[38;5;241m=\u001b[39m mean \u001b[38;5;241m/\u001b[39m total_weight\n",
      "\u001b[1;31mKeyError\u001b[0m: \"Key 'diedaa' not present in vocabulary\""
     ]
    }
   ],
   "source": [
    "# Ensayar con una palabra que no está en el vocabulario:\n",
    "w2v_model.wv.most_similar(negative=[\"diedaa\"])"
   ]
  },
  {
   "cell_type": "code",
   "execution_count": 123,
   "metadata": {},
   "outputs": [
    {
     "name": "stdout",
     "output_type": "stream",
     "text": [
      "300 [-7.03520656e-01 -2.83637404e-01 -1.02018462e-02 -6.53428972e-01\n",
      " -3.92749161e-01 -5.54828048e-01 -1.24949053e-01  4.64045197e-01\n",
      " -2.93092191e-01  3.46867621e-01  8.74506980e-02  5.15753984e-01\n",
      " -1.69843256e-01 -1.04016769e+00 -5.16713271e-03 -1.63220391e-01\n",
      " -1.35753769e-02  5.13582170e-01 -7.09954125e-04 -3.89447153e-01\n",
      " -5.56652308e-01 -9.74683613e-02 -1.56665266e-01  9.47714373e-02\n",
      " -1.73069626e-01  1.73681155e-01 -4.15116549e-01  3.30539018e-01\n",
      "  1.24054611e-01  2.64678627e-01  1.95869863e-01  3.50541800e-01\n",
      "  8.79925117e-02  1.88432842e-01 -2.71227926e-01  2.15670660e-01\n",
      "  1.48772880e-01 -2.84983844e-01  1.72888830e-01  6.33225381e-01\n",
      " -5.47193736e-02  3.89761515e-02 -2.63760418e-01 -6.53275967e-01\n",
      " -7.12100342e-02 -5.60885742e-02  6.63954318e-01  8.13975155e-01\n",
      "  9.55329537e-01 -1.98604632e-03  1.50509626e-01  1.86542377e-01\n",
      " -3.40532362e-01 -2.15571076e-01 -3.60463187e-02  2.77052701e-01\n",
      " -5.21707572e-02  1.52407065e-01  2.47868791e-01  1.16639100e-01\n",
      " -1.44767776e-01 -4.44675565e-01  4.19898093e-01 -2.95067430e-01\n",
      "  2.27343559e-01  2.70572066e-01  3.32178354e-01  4.30594712e-01\n",
      "  1.45930976e-01  5.17802238e-01  4.36664581e-01 -1.71427965e-01\n",
      "  3.67308944e-01 -6.71226755e-02  3.98488879e-01  3.97000685e-02\n",
      "  3.42031941e-02 -2.21424937e-01 -1.10970840e-01 -1.08636633e-01\n",
      " -5.20458519e-01 -2.80447483e-01 -1.20770298e-01 -5.37660234e-02\n",
      "  4.60045785e-01 -4.45695251e-01 -2.81400859e-01 -7.16751292e-02\n",
      " -4.36290056e-02 -5.35796508e-02 -1.88837349e-01  4.49827641e-01\n",
      " -2.73657769e-01  2.79793829e-01 -2.68108457e-01 -6.38215482e-01\n",
      "  6.03790581e-02 -2.50586629e-01  1.76821291e-01 -2.62152761e-01\n",
      "  1.23456523e-01  6.67354584e-01 -2.33892113e-01 -6.22036994e-01\n",
      "  2.85449922e-01 -5.19998670e-01 -3.43467474e-01 -1.44307584e-01\n",
      "  2.10507914e-01 -3.91319126e-01 -8.15321505e-01  9.96837467e-02\n",
      " -2.29863599e-01  2.70952314e-01 -2.61804968e-01  8.74700174e-02\n",
      "  5.95306218e-01  4.67636913e-01  1.09813392e-01 -5.93070269e-01\n",
      " -2.50989556e-01  1.90260217e-01  1.42416432e-01  3.75770207e-04\n",
      " -3.14838022e-01  5.78068160e-02 -4.50193465e-01 -5.86079285e-02\n",
      "  4.43940200e-02 -2.07823366e-01  2.09291831e-01  3.49032730e-01\n",
      "  7.45001972e-01 -5.06310523e-01 -1.93311796e-01  1.60028487e-01\n",
      " -6.47579879e-02 -4.67896610e-02  3.53666127e-01 -4.89536285e-01\n",
      "  1.51417583e-01 -1.11225411e-01  6.55382633e-01 -1.54609352e-01\n",
      "  5.51817000e-01 -3.48145306e-01  1.67613536e-01  1.42878935e-01\n",
      "  1.63927689e-01  3.27923477e-01 -6.51476204e-01 -2.62342602e-01\n",
      "  2.14846775e-01  3.01297843e-01  1.89405441e-01 -2.01702639e-01\n",
      " -2.31133789e-01  3.84294122e-01  5.25626913e-02 -1.18073367e-01\n",
      " -2.88817465e-01 -1.11643642e-01  5.29803894e-02 -5.94353583e-03\n",
      "  1.25267833e-01 -2.85910338e-01 -5.42129338e-01 -2.49369249e-01\n",
      "  2.05636900e-02  7.22849309e-01  1.97791770e-01 -2.86387354e-01\n",
      "  2.14294046e-01  4.14338857e-01 -4.12840806e-02  4.94979173e-02\n",
      " -2.25028601e-02  1.32858366e-01 -2.50811398e-01 -4.11777943e-01\n",
      "  1.39290214e-01  2.67319471e-01  1.28285121e-02  5.23335218e-01\n",
      "  8.83470356e-01  2.52526730e-01  4.14204210e-01 -2.62300044e-01\n",
      " -1.67195231e-01 -3.43092382e-01  4.09341604e-01  2.05791116e-01\n",
      " -1.22539312e-01 -7.85904825e-01 -3.89520973e-01 -1.56360883e-02\n",
      " -2.42361948e-01  4.32545274e-01  2.72233397e-01 -7.36425370e-02\n",
      "  3.15766811e-01  2.16431856e-01  3.79902005e-01  8.70236903e-02\n",
      "  1.38483241e-01  2.42944613e-01  1.02174439e-01 -3.29403281e-02\n",
      "  1.79055274e-01 -3.97986919e-02  7.77600780e-02  5.29041171e-01\n",
      " -1.28836423e-01 -4.29320097e-01 -2.42820919e-01  2.27036461e-01\n",
      " -1.89543471e-01 -8.40259254e-01 -1.18235312e-01 -1.97079271e-01\n",
      " -3.25857669e-01 -1.82618089e-02  6.13155104e-02 -1.39028594e-01\n",
      "  1.24609388e-01  2.93755382e-01 -5.32213971e-03  2.23917082e-01\n",
      " -3.73804271e-01  3.75390261e-01  4.59526218e-02 -5.76798379e-01\n",
      " -5.37300780e-02  2.43624106e-01 -3.18466514e-01  5.70345104e-01\n",
      "  5.35821617e-01 -3.00484654e-02 -2.34435499e-01 -6.43672049e-02\n",
      "  3.65945995e-01  5.31134069e-01  5.28622456e-02  3.35704356e-01\n",
      "  7.43870139e-02 -2.12220792e-02  2.26179928e-01  9.70414504e-02\n",
      " -7.03412831e-01 -3.87487054e-01  2.68886268e-01  3.44170451e-01\n",
      "  6.98180124e-02 -4.54290807e-01  3.75338018e-01  1.99938059e-01\n",
      "  1.86783716e-01 -1.14312373e-01 -2.67817825e-01 -6.44759595e-01\n",
      "  7.27045685e-02 -6.28663003e-01  1.86939701e-01  4.79045898e-01\n",
      " -1.83327749e-01 -6.34671032e-01  4.85263795e-01 -1.81321457e-01\n",
      "  6.60724342e-02 -7.44259879e-02 -1.90122575e-01 -5.46233952e-01\n",
      " -1.43701166e-01 -5.05303554e-02  3.13632846e-01 -3.92517179e-01\n",
      "  3.07294309e-01  2.08662048e-01  2.46014044e-01 -1.73030376e-01\n",
      "  3.40587378e-01  5.91395676e-01 -6.05704129e-01 -3.01397473e-01\n",
      "  2.56140679e-01  5.76475933e-02 -7.19801113e-02  3.39194536e-01\n",
      "  1.54350325e-01  5.53681970e-01 -1.44219339e-01  5.33249378e-02\n",
      "  4.40511435e-01  2.36634508e-01 -9.95434225e-02  5.84458351e-01\n",
      " -1.94426939e-01  1.61630139e-02  1.02684505e-01  8.49686086e-01]\n"
     ]
    }
   ],
   "source": [
    "# el método `get_vector` permite obtener los vectores:\n",
    "vector_God = w2v_model.wv.get_vector(\"god\")\n",
    "print(len(vector_God), vector_God)"
   ]
  },
  {
   "cell_type": "code",
   "execution_count": 124,
   "metadata": {},
   "outputs": [
    {
     "data": {
      "text/plain": [
       "[('god', 1.0),\n",
       " ('goddess', 0.382822185754776),\n",
       " ('Chemosh', 0.3552262783050537),\n",
       " ('wizard', 0.3533047139644623),\n",
       " ('Baalim', 0.34227436780929565),\n",
       " ('Diana', 0.33017948269844055),\n",
       " ('invention', 0.32000353932380676),\n",
       " ('graven', 0.3120911121368408),\n",
       " ('Baal', 0.30943194031715393),\n",
       " ('Ashtaroth', 0.3084787130355835)]"
      ]
     },
     "execution_count": 124,
     "metadata": {},
     "output_type": "execute_result"
    }
   ],
   "source": [
    "# el método `most_similar` también permite comparar a partir de vectores\n",
    "w2v_model.wv.most_similar(vector_God)"
   ]
  },
  {
   "cell_type": "markdown",
   "metadata": {},
   "source": [
    "#### 5 - Visualizar agrupación de vectores"
   ]
  },
  {
   "cell_type": "code",
   "execution_count": 147,
   "metadata": {},
   "outputs": [],
   "source": [
    "def reduce_dimensions(model, num_dimensions = 2 ):\n",
    "     \n",
    "    vectors = np.asarray(model.wv.vectors)\n",
    "    labels = np.asarray(model.wv.index_to_key)  \n",
    "\n",
    "    tsne = TSNE(n_components=num_dimensions, random_state=0)\n",
    "    vectors = tsne.fit_transform(vectors)\n",
    "\n",
    "    return vectors, labels"
   ]
  },
  {
   "cell_type": "code",
   "execution_count": 148,
   "metadata": {},
   "outputs": [
    {
     "data": {
      "application/vnd.plotly.v1+json": {
       "config": {
        "plotlyServerURL": "https://plot.ly"
       },
       "data": [
        {
         "hovertemplate": "x=%{x}<br>y=%{y}<br>text=%{text}<extra></extra>",
         "legendgroup": "",
         "marker": {
          "color": "#636efa",
          "symbol": "circle"
         },
         "mode": "markers+text",
         "name": "",
         "orientation": "v",
         "showlegend": false,
         "text": [
          "And",
          "shall",
          "unto",
          "I",
          "LORD",
          "thou",
          "wa",
          "thy",
          "God",
          "said",
          "thee",
          "ye",
          "son",
          "king",
          "1",
          "upon",
          "2",
          "man",
          "day",
          "Israel",
          "3",
          "4",
          "7",
          "5",
          "6",
          "hath",
          "9",
          "8",
          "house",
          "people",
          "10",
          "11",
          "came",
          "child",
          "12",
          "hand",
          "one",
          "13",
          "The",
          "14",
          "come",
          "15",
          "land",
          "For",
          "thing",
          "16",
          "also",
          "men",
          "shalt",
          "18",
          "But",
          "19",
          "17",
          "20",
          "u",
          "21",
          "22",
          "saying",
          "made",
          "father",
          "went",
          "Then",
          "city",
          "even",
          "23",
          "saith",
          "go",
          "word",
          "24",
          "every",
          "let",
          "25",
          "Lord",
          "O",
          "David",
          "name",
          "26",
          "hast",
          "may",
          "say",
          "make",
          "offering",
          "earth",
          "Jesus",
          "servant",
          "27",
          "brother",
          "great",
          "heart",
          "priest",
          "place",
          "thine",
          "away",
          "year",
          "thereof",
          "among",
          "28",
          "forth",
          "put",
          "way",
          "brought",
          "Moses",
          "two",
          "pas",
          "Judah",
          "Jerusalem",
          "therefore",
          "29",
          "give",
          "neither",
          "time",
          "according",
          "He",
          "good",
          "took",
          "30",
          "behold",
          "know",
          "31",
          "take",
          "heaven",
          "sent",
          "water",
          "bring",
          "set",
          "work",
          "like",
          "32",
          "eat",
          "Now",
          "heard",
          "called",
          "mine",
          "So",
          "evil",
          "hundred",
          "eye",
          "sin",
          "Egypt",
          "Behold",
          "33",
          "spake",
          "Thou",
          "thousand",
          "daughter",
          "Christ",
          "done",
          "yet",
          "see",
          "saw",
          "fire",
          "law",
          "34",
          "wife",
          "soul",
          "woman",
          "many",
          "voice",
          "given",
          "answered",
          "host",
          "side",
          "face",
          "If",
          "together",
          "cast",
          "nation",
          "prophet",
          "life",
          "three",
          "ever",
          "might",
          "36",
          "head",
          "holy",
          "gave",
          "35",
          "another",
          "seven",
          "Thus",
          "blood",
          "sword",
          "art",
          "speak",
          "commanded",
          "would",
          "mouth",
          "hear",
          "Therefore",
          "altar",
          "first",
          "Let",
          "sea",
          "Saul",
          "flesh",
          "without",
          "37",
          "gate",
          "judgment",
          "gold"
         ],
         "type": "scatter",
         "x": [
          1.6331679821014404,
          -1.1497042179107666,
          1.904636263847351,
          0.5038485527038574,
          -0.02059597708284855,
          -1.087828278541565,
          1.3819488286972046,
          -1.8089454174041748,
          -0.3005513846874237,
          2.476008176803589,
          -0.49579280614852905,
          0.43326398730278015,
          1.468192219734192,
          1.2297067642211914,
          1.1431279182434082,
          -0.6774458289146423,
          1.035483717918396,
          -0.9817783832550049,
          0.6523756980895996,
          0.18611988425254822,
          0.9225990772247314,
          0.9781473875045776,
          1.0634210109710693,
          0.8015669584274292,
          0.9173856973648071,
          -0.555877685546875,
          1.1750410795211792,
          1.1499131917953491,
          0.6054133176803589,
          0.2903759777545929,
          1.1491836309432983,
          1.078637957572937,
          3.3804845809936523,
          0.3264051079750061,
          1.1121588945388794,
          -0.12195049226284027,
          -0.14842066168785095,
          1.0246163606643677,
          2.0129342079162598,
          1.0930073261260986,
          -0.355096697807312,
          1.1717700958251953,
          -2.5850937366485596,
          1.6433953046798706,
          0.1738014817237854,
          1.189688801765442,
          0.5020232796669006,
          0.9367626905441284,
          -1.6567327976226807,
          1.220706582069397,
          1.747506022453308,
          1.0786067247390747,
          0.9307438135147095,
          1.1182541847229004,
          -0.28091996908187866,
          1.1084126234054565,
          1.1958801746368408,
          2.7348203659057617,
          -1.1200838088989258,
          -0.007467516232281923,
          3.4428696632385254,
          1.916358470916748,
          0.3600465655326843,
          1.1744276285171509,
          1.160449743270874,
          2.3974273204803467,
          -0.1400870382785797,
          1.1304987668991089,
          1.150175929069519,
          -0.4933848977088928,
          -1.0814505815505981,
          1.2180198431015015,
          -0.01089552789926529,
          -0.9113072752952576,
          9.135530471801758,
          1.7907277345657349,
          1.1479251384735107,
          -2.698760747909546,
          -1.2215551137924194,
          2.201838254928589,
          -1.833260416984558,
          6.722924709320068,
          -1.2437340021133423,
          1.5854992866516113,
          0.2751002013683319,
          1.1726014614105225,
          1.9263908863067627,
          -1.9192068576812744,
          -0.27939939498901367,
          4.8597612380981445,
          -0.2635224163532257,
          -1.893367052078247,
          1.3672863245010376,
          -1.9091488122940063,
          -1.2628449201583862,
          0.23683804273605347,
          1.1606441736221313,
          1.614184021949768,
          -0.7180675268173218,
          0.21107205748558044,
          3.1100316047668457,
          7.914841651916504,
          3.1510133743286133,
          2.498110055923462,
          -2.7455947399139404,
          0.7565760016441345,
          1.0898982286453247,
          -9.958463668823242,
          -3.3039073944091797,
          -1.5031232833862305,
          0.9028380513191223,
          1.8538984060287476,
          0.9806943535804749,
          -0.1758192628622055,
          2.440721035003662,
          1.3191053867340088,
          1.157675862312317,
          0.4580227732658386,
          1.188636064529419,
          -1.3057831525802612,
          0.773415207862854,
          2.8473987579345703,
          -3.8990368843078613,
          -0.6047078371047974,
          1.22687828540802,
          -0.12090419232845306,
          -0.9999241828918457,
          1.2727282047271729,
          3.241083860397339,
          1.8441050052642822,
          2.0578556060791016,
          2.4667563438415527,
          0.36567386984825134,
          1.8654465675354004,
          0.3854045867919922,
          2.932140350341797,
          -0.3701595664024353,
          -0.707846462726593,
          -2.477431535720825,
          2.0405189990997314,
          -9.473880767822266,
          2.8339381217956543,
          -1.2954678535461426,
          2.838209629058838,
          3.5900988578796387,
          -10.586950302124023,
          0.38543063402175903,
          0.5267109274864197,
          0.6496155858039856,
          2.208780288696289,
          -0.7149721384048462,
          -0.2122497260570526,
          1.3605793714523315,
          -13.93299674987793,
          0.34194695949554443,
          0.9986929893493652,
          1.057762622833252,
          4.685817241668701,
          1.9003554582595825,
          2.6338322162628174,
          -0.018314119428396225,
          2.66603946685791,
          1.7170674800872803,
          2.5342416763305664,
          2.2122137546539307,
          0.5780783295631409,
          -7.775683403015137,
          2.0287837982177734,
          -0.9699223637580872,
          2.3579838275909424,
          -1.253093957901001,
          0.35615074634552,
          1.1846038103103638,
          2.080446720123291,
          -0.5671159625053406,
          -10.755302429199219,
          -9.866669654846191,
          -0.2529233992099762,
          5.248044967651367,
          1.9882652759552002,
          13.448346138000488,
          -0.5325883626937866,
          -1.3036534786224365,
          0.8602098822593689,
          2.49745774269104,
          0.705505907535553,
          0.004295537248253822,
          0.13902994990348816,
          -10.057719230651855,
          9.701955795288086,
          1.8780786991119385,
          3.0999135971069336,
          -5.175045967102051,
          -12.431624412536621,
          3.588167905807495,
          -1.1940319538116455,
          1.3304730653762817,
          3.542692184448242,
          -0.2293783277273178,
          3.0292270183563232
         ],
         "xaxis": "x",
         "y": [
          -1.160957932472229,
          -3.3005292415618896,
          -3.5369763374328613,
          -4.540659427642822,
          -3.9053590297698975,
          -4.757303237915039,
          -2.349055767059326,
          -4.8097758293151855,
          -4.284976959228516,
          -2.303415536880493,
          -4.866584300994873,
          -4.4362688064575195,
          9.576356887817383,
          -2.8944144248962402,
          -1.9543871879577637,
          -3.334946393966675,
          -1.9754724502563477,
          -2.0675735473632812,
          -3.9101722240448,
          -3.830329656600952,
          -1.9512513875961304,
          -1.7966746091842651,
          -1.7102680206298828,
          -1.8135343790054321,
          -1.7738476991653442,
          -3.3337018489837646,
          -1.7334465980529785,
          -1.7113841772079468,
          -3.3676347732543945,
          -3.970576286315918,
          -1.518221139907837,
          -1.6646721363067627,
          -1.7910468578338623,
          -3.0478250980377197,
          -1.6420385837554932,
          -3.5274510383605957,
          -2.6217265129089355,
          -1.7282705307006836,
          0.10598061233758926,
          -1.7773231267929077,
          -3.894212007522583,
          -1.6030114889144897,
          -8.149247169494629,
          -0.45335155725479126,
          -4.141971588134766,
          -1.6799396276474,
          -3.7389535903930664,
          -3.5209667682647705,
          -5.216644287109375,
          -1.6486576795578003,
          -0.1831749677658081,
          -1.6649574041366577,
          -1.606209397315979,
          -1.6823102235794067,
          -4.657795429229736,
          -1.658219814300537,
          -1.6880955696105957,
          -2.556302070617676,
          -2.676551342010498,
          -3.7295103073120117,
          -1.7438132762908936,
          -0.737515926361084,
          -3.365203857421875,
          -3.9314181804656982,
          -1.5765984058380127,
          -2.863186836242676,
          -4.644021987915039,
          -4.28403902053833,
          -1.5918025970458984,
          -2.6567888259887695,
          -3.901122570037842,
          -1.5960904359817505,
          -4.153848171234131,
          -4.4255900382995605,
          -0.899575412273407,
          -3.995979070663452,
          -1.6155540943145752,
          -6.269534111022949,
          -3.9655375480651855,
          -2.734034538269043,
          -3.3172430992126465,
          3.902710199356079,
          -4.505192279815674,
          -2.0100302696228027,
          -4.0785813331604,
          -1.6062058210372925,
          -2.543907403945923,
          -4.734536170959473,
          -3.774625062942505,
          1.7306997776031494,
          -3.700230836868286,
          -4.769047260284424,
          -3.7275197505950928,
          6.538207530975342,
          -2.7559406757354736,
          -3.2946481704711914,
          -1.5354527235031128,
          -3.917614459991455,
          -1.719690203666687,
          -3.7864668369293213,
          -1.8387649059295654,
          -9.280941009521484,
          1.4369531869888306,
          -1.5741196870803833,
          6.802526950836182,
          -3.584319829940796,
          -4.241384983062744,
          -0.3001922369003296,
          -5.599541664123535,
          -4.499021530151367,
          -3.7222299575805664,
          -5.277446746826172,
          -0.7189944386482239,
          -4.537149429321289,
          -1.685081124305725,
          -1.3840372562408447,
          -4.066517353057861,
          -4.746163368225098,
          -1.525144338607788,
          -4.28027868270874,
          -10.818624496459961,
          -2.2749812602996826,
          -9.059426307678223,
          -3.9029979705810547,
          -3.1856861114501953,
          -4.09626579284668,
          -2.9688007831573486,
          -1.3694286346435547,
          -6.422820091247559,
          -0.4608977735042572,
          -2.5528786182403564,
          -2.4073328971862793,
          -4.850204944610596,
          -0.6697987914085388,
          -4.318783760070801,
          6.820146560668945,
          -5.161661148071289,
          -4.226804733276367,
          -8.396564483642578,
          -1.0105607509613037,
          -0.23383285105228424,
          -2.174872875213623,
          -4.921011924743652,
          6.529054641723633,
          9.927020072937012,
          1.7050269842147827,
          -4.101895809173584,
          -4.659369945526123,
          -4.674956321716309,
          -1.951469898223877,
          -11.238977432250977,
          -4.372868537902832,
          -1.3681390285491943,
          0.2003127783536911,
          -4.696081161499023,
          -4.1143879890441895,
          -4.25851583480835,
          -3.9442203044891357,
          -4.267195701599121,
          -2.166717767715454,
          -3.609952926635742,
          1.5787285566329956,
          -4.619049549102783,
          -0.8526570796966553,
          -3.786064863204956,
          -2.329275369644165,
          -12.612454414367676,
          -3.6301751136779785,
          -4.590647220611572,
          -0.6855707168579102,
          -4.356567859649658,
          -4.417243957519531,
          -1.3136670589447021,
          -4.4918317794799805,
          -3.9604332447052,
          -2.7526681423187256,
          2.185898780822754,
          -2.34021258354187,
          1.9667766094207764,
          -1.355484962463379,
          0.3340582847595215,
          -3.452298164367676,
          -5.131898403167725,
          -3.8926713466644287,
          -2.930717945098877,
          -4.62714147567749,
          -3.227937698364258,
          -4.126272201538086,
          -2.297301769256592,
          -1.2569009065628052,
          -3.4109668731689453,
          -5.796977996826172,
          -11.071215629577637,
          -7.531030178070068,
          -5.8970136642456055,
          -3.7387306690216064,
          -1.323025107383728,
          -3.5560648441314697,
          -3.8427133560180664,
          6.395517826080322
         ],
         "yaxis": "y"
        }
       ],
       "layout": {
        "legend": {
         "tracegroupgap": 0
        },
        "margin": {
         "t": 60
        },
        "template": {
         "data": {
          "bar": [
           {
            "error_x": {
             "color": "#2a3f5f"
            },
            "error_y": {
             "color": "#2a3f5f"
            },
            "marker": {
             "line": {
              "color": "#E5ECF6",
              "width": 0.5
             },
             "pattern": {
              "fillmode": "overlay",
              "size": 10,
              "solidity": 0.2
             }
            },
            "type": "bar"
           }
          ],
          "barpolar": [
           {
            "marker": {
             "line": {
              "color": "#E5ECF6",
              "width": 0.5
             },
             "pattern": {
              "fillmode": "overlay",
              "size": 10,
              "solidity": 0.2
             }
            },
            "type": "barpolar"
           }
          ],
          "carpet": [
           {
            "aaxis": {
             "endlinecolor": "#2a3f5f",
             "gridcolor": "white",
             "linecolor": "white",
             "minorgridcolor": "white",
             "startlinecolor": "#2a3f5f"
            },
            "baxis": {
             "endlinecolor": "#2a3f5f",
             "gridcolor": "white",
             "linecolor": "white",
             "minorgridcolor": "white",
             "startlinecolor": "#2a3f5f"
            },
            "type": "carpet"
           }
          ],
          "choropleth": [
           {
            "colorbar": {
             "outlinewidth": 0,
             "ticks": ""
            },
            "type": "choropleth"
           }
          ],
          "contour": [
           {
            "colorbar": {
             "outlinewidth": 0,
             "ticks": ""
            },
            "colorscale": [
             [
              0,
              "#0d0887"
             ],
             [
              0.1111111111111111,
              "#46039f"
             ],
             [
              0.2222222222222222,
              "#7201a8"
             ],
             [
              0.3333333333333333,
              "#9c179e"
             ],
             [
              0.4444444444444444,
              "#bd3786"
             ],
             [
              0.5555555555555556,
              "#d8576b"
             ],
             [
              0.6666666666666666,
              "#ed7953"
             ],
             [
              0.7777777777777778,
              "#fb9f3a"
             ],
             [
              0.8888888888888888,
              "#fdca26"
             ],
             [
              1,
              "#f0f921"
             ]
            ],
            "type": "contour"
           }
          ],
          "contourcarpet": [
           {
            "colorbar": {
             "outlinewidth": 0,
             "ticks": ""
            },
            "type": "contourcarpet"
           }
          ],
          "heatmap": [
           {
            "colorbar": {
             "outlinewidth": 0,
             "ticks": ""
            },
            "colorscale": [
             [
              0,
              "#0d0887"
             ],
             [
              0.1111111111111111,
              "#46039f"
             ],
             [
              0.2222222222222222,
              "#7201a8"
             ],
             [
              0.3333333333333333,
              "#9c179e"
             ],
             [
              0.4444444444444444,
              "#bd3786"
             ],
             [
              0.5555555555555556,
              "#d8576b"
             ],
             [
              0.6666666666666666,
              "#ed7953"
             ],
             [
              0.7777777777777778,
              "#fb9f3a"
             ],
             [
              0.8888888888888888,
              "#fdca26"
             ],
             [
              1,
              "#f0f921"
             ]
            ],
            "type": "heatmap"
           }
          ],
          "heatmapgl": [
           {
            "colorbar": {
             "outlinewidth": 0,
             "ticks": ""
            },
            "colorscale": [
             [
              0,
              "#0d0887"
             ],
             [
              0.1111111111111111,
              "#46039f"
             ],
             [
              0.2222222222222222,
              "#7201a8"
             ],
             [
              0.3333333333333333,
              "#9c179e"
             ],
             [
              0.4444444444444444,
              "#bd3786"
             ],
             [
              0.5555555555555556,
              "#d8576b"
             ],
             [
              0.6666666666666666,
              "#ed7953"
             ],
             [
              0.7777777777777778,
              "#fb9f3a"
             ],
             [
              0.8888888888888888,
              "#fdca26"
             ],
             [
              1,
              "#f0f921"
             ]
            ],
            "type": "heatmapgl"
           }
          ],
          "histogram": [
           {
            "marker": {
             "pattern": {
              "fillmode": "overlay",
              "size": 10,
              "solidity": 0.2
             }
            },
            "type": "histogram"
           }
          ],
          "histogram2d": [
           {
            "colorbar": {
             "outlinewidth": 0,
             "ticks": ""
            },
            "colorscale": [
             [
              0,
              "#0d0887"
             ],
             [
              0.1111111111111111,
              "#46039f"
             ],
             [
              0.2222222222222222,
              "#7201a8"
             ],
             [
              0.3333333333333333,
              "#9c179e"
             ],
             [
              0.4444444444444444,
              "#bd3786"
             ],
             [
              0.5555555555555556,
              "#d8576b"
             ],
             [
              0.6666666666666666,
              "#ed7953"
             ],
             [
              0.7777777777777778,
              "#fb9f3a"
             ],
             [
              0.8888888888888888,
              "#fdca26"
             ],
             [
              1,
              "#f0f921"
             ]
            ],
            "type": "histogram2d"
           }
          ],
          "histogram2dcontour": [
           {
            "colorbar": {
             "outlinewidth": 0,
             "ticks": ""
            },
            "colorscale": [
             [
              0,
              "#0d0887"
             ],
             [
              0.1111111111111111,
              "#46039f"
             ],
             [
              0.2222222222222222,
              "#7201a8"
             ],
             [
              0.3333333333333333,
              "#9c179e"
             ],
             [
              0.4444444444444444,
              "#bd3786"
             ],
             [
              0.5555555555555556,
              "#d8576b"
             ],
             [
              0.6666666666666666,
              "#ed7953"
             ],
             [
              0.7777777777777778,
              "#fb9f3a"
             ],
             [
              0.8888888888888888,
              "#fdca26"
             ],
             [
              1,
              "#f0f921"
             ]
            ],
            "type": "histogram2dcontour"
           }
          ],
          "mesh3d": [
           {
            "colorbar": {
             "outlinewidth": 0,
             "ticks": ""
            },
            "type": "mesh3d"
           }
          ],
          "parcoords": [
           {
            "line": {
             "colorbar": {
              "outlinewidth": 0,
              "ticks": ""
             }
            },
            "type": "parcoords"
           }
          ],
          "pie": [
           {
            "automargin": true,
            "type": "pie"
           }
          ],
          "scatter": [
           {
            "fillpattern": {
             "fillmode": "overlay",
             "size": 10,
             "solidity": 0.2
            },
            "type": "scatter"
           }
          ],
          "scatter3d": [
           {
            "line": {
             "colorbar": {
              "outlinewidth": 0,
              "ticks": ""
             }
            },
            "marker": {
             "colorbar": {
              "outlinewidth": 0,
              "ticks": ""
             }
            },
            "type": "scatter3d"
           }
          ],
          "scattercarpet": [
           {
            "marker": {
             "colorbar": {
              "outlinewidth": 0,
              "ticks": ""
             }
            },
            "type": "scattercarpet"
           }
          ],
          "scattergeo": [
           {
            "marker": {
             "colorbar": {
              "outlinewidth": 0,
              "ticks": ""
             }
            },
            "type": "scattergeo"
           }
          ],
          "scattergl": [
           {
            "marker": {
             "colorbar": {
              "outlinewidth": 0,
              "ticks": ""
             }
            },
            "type": "scattergl"
           }
          ],
          "scattermapbox": [
           {
            "marker": {
             "colorbar": {
              "outlinewidth": 0,
              "ticks": ""
             }
            },
            "type": "scattermapbox"
           }
          ],
          "scatterpolar": [
           {
            "marker": {
             "colorbar": {
              "outlinewidth": 0,
              "ticks": ""
             }
            },
            "type": "scatterpolar"
           }
          ],
          "scatterpolargl": [
           {
            "marker": {
             "colorbar": {
              "outlinewidth": 0,
              "ticks": ""
             }
            },
            "type": "scatterpolargl"
           }
          ],
          "scatterternary": [
           {
            "marker": {
             "colorbar": {
              "outlinewidth": 0,
              "ticks": ""
             }
            },
            "type": "scatterternary"
           }
          ],
          "surface": [
           {
            "colorbar": {
             "outlinewidth": 0,
             "ticks": ""
            },
            "colorscale": [
             [
              0,
              "#0d0887"
             ],
             [
              0.1111111111111111,
              "#46039f"
             ],
             [
              0.2222222222222222,
              "#7201a8"
             ],
             [
              0.3333333333333333,
              "#9c179e"
             ],
             [
              0.4444444444444444,
              "#bd3786"
             ],
             [
              0.5555555555555556,
              "#d8576b"
             ],
             [
              0.6666666666666666,
              "#ed7953"
             ],
             [
              0.7777777777777778,
              "#fb9f3a"
             ],
             [
              0.8888888888888888,
              "#fdca26"
             ],
             [
              1,
              "#f0f921"
             ]
            ],
            "type": "surface"
           }
          ],
          "table": [
           {
            "cells": {
             "fill": {
              "color": "#EBF0F8"
             },
             "line": {
              "color": "white"
             }
            },
            "header": {
             "fill": {
              "color": "#C8D4E3"
             },
             "line": {
              "color": "white"
             }
            },
            "type": "table"
           }
          ]
         },
         "layout": {
          "annotationdefaults": {
           "arrowcolor": "#2a3f5f",
           "arrowhead": 0,
           "arrowwidth": 1
          },
          "autotypenumbers": "strict",
          "coloraxis": {
           "colorbar": {
            "outlinewidth": 0,
            "ticks": ""
           }
          },
          "colorscale": {
           "diverging": [
            [
             0,
             "#8e0152"
            ],
            [
             0.1,
             "#c51b7d"
            ],
            [
             0.2,
             "#de77ae"
            ],
            [
             0.3,
             "#f1b6da"
            ],
            [
             0.4,
             "#fde0ef"
            ],
            [
             0.5,
             "#f7f7f7"
            ],
            [
             0.6,
             "#e6f5d0"
            ],
            [
             0.7,
             "#b8e186"
            ],
            [
             0.8,
             "#7fbc41"
            ],
            [
             0.9,
             "#4d9221"
            ],
            [
             1,
             "#276419"
            ]
           ],
           "sequential": [
            [
             0,
             "#0d0887"
            ],
            [
             0.1111111111111111,
             "#46039f"
            ],
            [
             0.2222222222222222,
             "#7201a8"
            ],
            [
             0.3333333333333333,
             "#9c179e"
            ],
            [
             0.4444444444444444,
             "#bd3786"
            ],
            [
             0.5555555555555556,
             "#d8576b"
            ],
            [
             0.6666666666666666,
             "#ed7953"
            ],
            [
             0.7777777777777778,
             "#fb9f3a"
            ],
            [
             0.8888888888888888,
             "#fdca26"
            ],
            [
             1,
             "#f0f921"
            ]
           ],
           "sequentialminus": [
            [
             0,
             "#0d0887"
            ],
            [
             0.1111111111111111,
             "#46039f"
            ],
            [
             0.2222222222222222,
             "#7201a8"
            ],
            [
             0.3333333333333333,
             "#9c179e"
            ],
            [
             0.4444444444444444,
             "#bd3786"
            ],
            [
             0.5555555555555556,
             "#d8576b"
            ],
            [
             0.6666666666666666,
             "#ed7953"
            ],
            [
             0.7777777777777778,
             "#fb9f3a"
            ],
            [
             0.8888888888888888,
             "#fdca26"
            ],
            [
             1,
             "#f0f921"
            ]
           ]
          },
          "colorway": [
           "#636efa",
           "#EF553B",
           "#00cc96",
           "#ab63fa",
           "#FFA15A",
           "#19d3f3",
           "#FF6692",
           "#B6E880",
           "#FF97FF",
           "#FECB52"
          ],
          "font": {
           "color": "#2a3f5f"
          },
          "geo": {
           "bgcolor": "white",
           "lakecolor": "white",
           "landcolor": "#E5ECF6",
           "showlakes": true,
           "showland": true,
           "subunitcolor": "white"
          },
          "hoverlabel": {
           "align": "left"
          },
          "hovermode": "closest",
          "mapbox": {
           "style": "light"
          },
          "paper_bgcolor": "white",
          "plot_bgcolor": "#E5ECF6",
          "polar": {
           "angularaxis": {
            "gridcolor": "white",
            "linecolor": "white",
            "ticks": ""
           },
           "bgcolor": "#E5ECF6",
           "radialaxis": {
            "gridcolor": "white",
            "linecolor": "white",
            "ticks": ""
           }
          },
          "scene": {
           "xaxis": {
            "backgroundcolor": "#E5ECF6",
            "gridcolor": "white",
            "gridwidth": 2,
            "linecolor": "white",
            "showbackground": true,
            "ticks": "",
            "zerolinecolor": "white"
           },
           "yaxis": {
            "backgroundcolor": "#E5ECF6",
            "gridcolor": "white",
            "gridwidth": 2,
            "linecolor": "white",
            "showbackground": true,
            "ticks": "",
            "zerolinecolor": "white"
           },
           "zaxis": {
            "backgroundcolor": "#E5ECF6",
            "gridcolor": "white",
            "gridwidth": 2,
            "linecolor": "white",
            "showbackground": true,
            "ticks": "",
            "zerolinecolor": "white"
           }
          },
          "shapedefaults": {
           "line": {
            "color": "#2a3f5f"
           }
          },
          "ternary": {
           "aaxis": {
            "gridcolor": "white",
            "linecolor": "white",
            "ticks": ""
           },
           "baxis": {
            "gridcolor": "white",
            "linecolor": "white",
            "ticks": ""
           },
           "bgcolor": "#E5ECF6",
           "caxis": {
            "gridcolor": "white",
            "linecolor": "white",
            "ticks": ""
           }
          },
          "title": {
           "x": 0.05
          },
          "xaxis": {
           "automargin": true,
           "gridcolor": "white",
           "linecolor": "white",
           "ticks": "",
           "title": {
            "standoff": 15
           },
           "zerolinecolor": "white",
           "zerolinewidth": 2
          },
          "yaxis": {
           "automargin": true,
           "gridcolor": "white",
           "linecolor": "white",
           "ticks": "",
           "title": {
            "standoff": 15
           },
           "zerolinecolor": "white",
           "zerolinewidth": 2
          }
         }
        },
        "xaxis": {
         "anchor": "y",
         "domain": [
          0,
          1
         ],
         "title": {
          "text": "x"
         }
        },
        "yaxis": {
         "anchor": "x",
         "domain": [
          0,
          1
         ],
         "title": {
          "text": "y"
         }
        }
       }
      }
     },
     "metadata": {},
     "output_type": "display_data"
    }
   ],
   "source": [
    "# Graficar los embedddings en 2D\n",
    "import plotly.graph_objects as go\n",
    "import plotly.express as px\n",
    "\n",
    "vecs, labels = reduce_dimensions(w2v_model)\n",
    "\n",
    "MAX_WORDS=200\n",
    "fig = px.scatter(x=vecs[:MAX_WORDS,0], y=vecs[:MAX_WORDS,1], text=labels[:MAX_WORDS])\n",
    "fig.show()\n",
    "#fig.show(renderer=\"colab\") # esto para plotly en colab"
   ]
  },
  {
   "cell_type": "markdown",
   "metadata": {},
   "source": [
    "En el grafico podemos ver que las palabras David y altar estan muy cercas entre si, según la biblia David construyó un altar e hizo sacrificios allí. Puede ser por esto esa relación que se ve en el grafico.  \n",
    "\n",
    "En el grafico también se puede ver una cercanía entre 'seven' y 'priest' (sacerdote), tal vés esto se deba a los siete sacramentos y que la mayoria solo puede ser administrado por un sacerdote.\n",
    "\n",
    "'water' y 'sea' estan cercanos."
   ]
  },
  {
   "cell_type": "code",
   "execution_count": 149,
   "metadata": {},
   "outputs": [
    {
     "data": {
      "application/vnd.plotly.v1+json": {
       "config": {
        "plotlyServerURL": "https://plot.ly"
       },
       "data": [
        {
         "hovertemplate": "x=%{x}<br>y=%{y}<br>z=%{z}<br>text=%{text}<extra></extra>",
         "legendgroup": "",
         "marker": {
          "color": "#636efa",
          "size": 2,
          "symbol": "circle"
         },
         "mode": "markers+text",
         "name": "",
         "scene": "scene",
         "showlegend": false,
         "text": [
          "And",
          "shall",
          "unto",
          "I",
          "LORD",
          "thou",
          "wa",
          "thy",
          "God",
          "said",
          "thee",
          "ye",
          "son",
          "king",
          "1",
          "upon",
          "2",
          "man",
          "day",
          "Israel",
          "3",
          "4",
          "7",
          "5",
          "6",
          "hath",
          "9",
          "8",
          "house",
          "people",
          "10",
          "11",
          "came",
          "child",
          "12",
          "hand",
          "one",
          "13",
          "The",
          "14",
          "come",
          "15",
          "land",
          "For",
          "thing",
          "16",
          "also",
          "men",
          "shalt",
          "18",
          "But",
          "19",
          "17",
          "20",
          "u",
          "21",
          "22",
          "saying",
          "made",
          "father",
          "went",
          "Then",
          "city",
          "even",
          "23",
          "saith",
          "go",
          "word",
          "24",
          "every",
          "let",
          "25",
          "Lord",
          "O",
          "David",
          "name",
          "26",
          "hast",
          "may",
          "say",
          "make",
          "offering",
          "earth",
          "Jesus",
          "servant",
          "27",
          "brother",
          "great",
          "heart",
          "priest",
          "place",
          "thine",
          "away",
          "year",
          "thereof",
          "among",
          "28",
          "forth",
          "put",
          "way",
          "brought",
          "Moses",
          "two",
          "pas",
          "Judah",
          "Jerusalem",
          "therefore",
          "29",
          "give",
          "neither",
          "time",
          "according",
          "He",
          "good",
          "took",
          "30",
          "behold",
          "know",
          "31",
          "take",
          "heaven",
          "sent",
          "water",
          "bring",
          "set",
          "work",
          "like",
          "32",
          "eat",
          "Now",
          "heard",
          "called",
          "mine",
          "So",
          "evil",
          "hundred",
          "eye",
          "sin",
          "Egypt",
          "Behold",
          "33",
          "spake",
          "Thou",
          "thousand",
          "daughter",
          "Christ",
          "done",
          "yet",
          "see",
          "saw",
          "fire",
          "law",
          "34",
          "wife",
          "soul",
          "woman",
          "many",
          "voice",
          "given",
          "answered",
          "host",
          "side",
          "face",
          "If",
          "together",
          "cast",
          "nation",
          "prophet",
          "life",
          "three",
          "ever",
          "might",
          "36",
          "head",
          "holy",
          "gave",
          "35",
          "another",
          "seven",
          "Thus",
          "blood",
          "sword",
          "art",
          "speak",
          "commanded",
          "would",
          "mouth",
          "hear",
          "Therefore",
          "altar",
          "first",
          "Let",
          "sea",
          "Saul",
          "flesh",
          "without",
          "37",
          "gate",
          "judgment",
          "gold"
         ],
         "type": "scatter3d",
         "x": [
          -8.154327392578125,
          479.797607421875,
          15.675070762634277,
          79.21056365966797,
          -3.10420560836792,
          -452.1542663574219,
          7.0358171463012695,
          -23.876394271850586,
          25.887052536010742,
          16.02610206604004,
          32.78373336791992,
          -9.850713729858398,
          -11.495819091796875,
          -21.116512298583984,
          1.258569598197937,
          7.690983772277832,
          -39.59812927246094,
          19.129192352294922,
          22.311269760131836,
          16.355070114135742,
          -1.0720545053482056,
          -1.9191598892211914,
          -2.7442984580993652,
          -15.18548583984375,
          -5.641717910766602,
          26.638778686523438,
          -3.7882275581359863,
          -5.750758647918701,
          -10.922592163085938,
          21.949914932250977,
          -1.8996201753616333,
          -1.6053038835525513,
          1.2709728479385376,
          14.006044387817383,
          1.5172039270401,
          13.279646873474121,
          -0.35299885272979736,
          -1.4388368129730225,
          -9.798868179321289,
          0.5899760127067566,
          24.717212677001953,
          -1.662661075592041,
          -3.5258705615997314,
          13.038902282714844,
          32.84814453125,
          -2.9286043643951416,
          15.396961212158203,
          17.509052276611328,
          41.105133056640625,
          -7.358774662017822,
          10.700326919555664,
          -4.439249515533447,
          -4.461236000061035,
          -2.256838321685791,
          40.21603775024414,
          4.527222633361816,
          -8.302725791931152,
          17.85700225830078,
          27.72456932067871,
          29.313976287841797,
          0.16991055011749268,
          8.928348541259766,
          -31.572729110717773,
          31.320226669311523,
          1.8010144233703613,
          26.381589889526367,
          26.56782341003418,
          26.585878372192383,
          -7.535595417022705,
          -1.1993314027786255,
          43.229923248291016,
          -11.639304161071777,
          59.60490036010742,
          48.71842956542969,
          -64.39154815673828,
          -16.12879180908203,
          -0.2652355432510376,
          34.41735076904297,
          48.169464111328125,
          22.170150756835938,
          12.187950134277344,
          -27.19146728515625,
          16.826690673828125,
          -40.40977478027344,
          19.289670944213867,
          -10.652299880981445,
          -37.58293533325195,
          -11.034729957580566,
          55.409423828125,
          -8.505838394165039,
          -6.217478275299072,
          17.255517959594727,
          -37.16036605834961,
          19.14087677001953,
          -48.84724807739258,
          -4.668249607086182,
          -5.9196038246154785,
          -3.0477852821350098,
          10.21754264831543,
          -0.4276595115661621,
          4.59836483001709,
          -47.087486267089844,
          -17.12471580505371,
          5.077569007873535,
          15.182126998901367,
          -37.516902923583984,
          32.7610969543457,
          -26.705392837524414,
          36.77018356323242,
          40.9277229309082,
          27.152454376220703,
          21.540491104125977,
          21.74234962463379,
          60.517704010009766,
          1.852446436882019,
          -12.11663818359375,
          13.632469177246094,
          54.90184020996094,
          4.2557854652404785,
          57.21233367919922,
          11.816106796264648,
          -37.33253860473633,
          -28.892492294311523,
          -18.53177833557129,
          68.44214630126953,
          45.19390869140625,
          20.328540802001953,
          33.64950180053711,
          -9.920024871826172,
          -40.06982421875,
          -67.24310302734375,
          -24.724199295043945,
          45.441551208496094,
          5.73295783996582,
          60.158470153808594,
          -35.183353424072266,
          70.58768463134766,
          35.17363739013672,
          -3.026392698287964,
          61.24384689331055,
          36.615074157714844,
          12.420757293701172,
          41.85348129272461,
          -40.594566345214844,
          -17.958436965942383,
          -31.786273956298828,
          37.042259216308594,
          64.67237091064453,
          45.91788864135742,
          -7.189149379730225,
          -26.28331756591797,
          39.10287857055664,
          -19.763477325439453,
          -58.01261520385742,
          -12.666552543640137,
          -56.30295181274414,
          -31.854461669921875,
          36.50426483154297,
          24.084815979003906,
          17.018463134765625,
          -35.578125,
          -61.63004684448242,
          12.391105651855469,
          27.991840362548828,
          28.704160690307617,
          61.791019439697266,
          34.555519104003906,
          27.723987579345703,
          63.66289520263672,
          -63.82304382324219,
          64.27973175048828,
          53.68746566772461,
          -22.48564338684082,
          36.15151596069336,
          47.34907150268555,
          20.96143341064453,
          -41.39890670776367,
          -1.2612426280975342,
          -18.414133071899414,
          15.640372276306152,
          14.759690284729004,
          -4.6198506355285645,
          -23.102561950683594,
          58.01228713989258,
          7.6080322265625,
          54.46442794799805,
          62.95314025878906,
          59.56607437133789,
          14.102639198303223,
          -70.4488296508789,
          4.8919806480407715,
          45.46299362182617,
          -27.9835262298584,
          -63.2053108215332,
          44.26565170288086,
          50.036983489990234,
          -13.373950004577637,
          61.78208541870117,
          44.64995193481445,
          -57.409942626953125
         ],
         "y": [
          -11.430386543273926,
          -551.7886962890625,
          8.276534080505371,
          721.583984375,
          121.67390441894531,
          86.66704559326172,
          19.68939781188965,
          -26.662267684936523,
          -15.826844215393066,
          31.323345184326172,
          7.701905250549316,
          -8.590402603149414,
          -1.0802388191223145,
          -6.566995620727539,
          -15.44015884399414,
          11.907695770263672,
          7.065519332885742,
          -10.282949447631836,
          13.761720657348633,
          11.460700035095215,
          -18.479305267333984,
          -17.095252990722656,
          -15.306315422058105,
          107.87678527832031,
          -17.233428955078125,
          -7.909512996673584,
          -17.809978485107422,
          -13.185609817504883,
          15.787564277648926,
          9.892061233520508,
          -13.774402618408203,
          -11.186569213867188,
          30.05794906616211,
          6.78835391998291,
          -15.775108337402344,
          16.25117301940918,
          0.8527874946594238,
          -24.21992301940918,
          -28.58902359008789,
          -19.887805938720703,
          10.864112854003906,
          -17.060543060302734,
          13.836852073669434,
          -49.045387268066406,
          -11.318012237548828,
          -21.329187393188477,
          9.072648048400879,
          5.170482158660889,
          -7.30620002746582,
          -21.87167739868164,
          -43.08953857421875,
          -16.212928771972656,
          -21.41781234741211,
          -20.60593605041504,
          7.814946174621582,
          -18.051639556884766,
          -16.640085220336914,
          28.49761962890625,
          -0.3454378545284271,
          8.461112976074219,
          27.89451789855957,
          42.360626220703125,
          -3.5452208518981934,
          18.42901039123535,
          -21.21354866027832,
          35.91371536254883,
          11.250247955322266,
          -8.659466743469238,
          -20.84221076965332,
          -19.956438064575195,
          -26.36766815185547,
          -14.963705062866211,
          -26.28022003173828,
          -25.303068161010742,
          13.048999786376953,
          -28.209449768066406,
          -11.941558837890625,
          -12.90528392791748,
          2.296600103378296,
          32.17291259765625,
          -27.97733497619629,
          -6.812771320343018,
          18.627939224243164,
          -43.8006591796875,
          22.55422592163086,
          -23.697031021118164,
          -33.81437301635742,
          -46.755924224853516,
          15.968978881835938,
          1.877690076828003,
          54.2712287902832,
          -43.396568298339844,
          -55.813377380371094,
          13.241700172424316,
          -42.716922760009766,
          -20.597402572631836,
          -13.180749893188477,
          -22.531023025512695,
          -6.310774326324463,
          -38.91402816772461,
          40.1476936340332,
          -22.63413429260254,
          59.36719512939453,
          35.48114013671875,
          14.193408012390137,
          -28.33517074584961,
          13.746235847473145,
          -37.7710075378418,
          -29.42886734008789,
          41.50880813598633,
          21.38677978515625,
          36.6652717590332,
          -45.14616012573242,
          13.145398139953613,
          19.822153091430664,
          -18.383562088012695,
          40.38206481933594,
          -8.881184577941895,
          -50.83113479614258,
          6.456958293914795,
          21.228010177612305,
          57.84433364868164,
          7.25568151473999,
          -44.96561050415039,
          -9.104148864746094,
          51.133914947509766,
          -26.34090232849121,
          -51.03312301635742,
          11.329349517822266,
          -35.317745208740234,
          5.129216194152832,
          63.270267486572266,
          -1.8267195224761963,
          42.75851821899414,
          17.005815505981445,
          50.08702087402344,
          -13.083256721496582,
          27.049888610839844,
          15.93841552734375,
          -20.349740982055664,
          -56.61157989501953,
          27.340686798095703,
          -10.217354774475098,
          52.30870819091797,
          -3.104156494140625,
          -38.191307067871094,
          55.38966751098633,
          10.2236328125,
          33.95368957519531,
          54.232608795166016,
          -31.767820358276367,
          16.71068000793457,
          -36.95707321166992,
          20.11663246154785,
          58.6520881652832,
          -16.820051193237305,
          -55.84497833251953,
          42.94017791748047,
          27.056203842163086,
          34.00279998779297,
          59.471885681152344,
          14.294454574584961,
          61.979671478271484,
          43.03279113769531,
          54.468833923339844,
          -37.012962341308594,
          46.82816696166992,
          51.708194732666016,
          30.33160400390625,
          8.328633308410645,
          10.382356643676758,
          35.826786041259766,
          -51.20231628417969,
          36.80879211425781,
          48.54628372192383,
          -31.120189666748047,
          -43.50202178955078,
          4.485370635986328,
          -10.304437637329102,
          47.2768440246582,
          -16.26473045349121,
          12.699061393737793,
          -27.114036560058594,
          -41.039066314697266,
          56.492862701416016,
          24.697093963623047,
          10.206335067749023,
          36.687259674072266,
          -54.33991622924805,
          -5.6250810623168945,
          58.86286163330078,
          -31.550121307373047,
          35.85904312133789,
          11.755373001098633,
          9.634551048278809,
          29.97983741760254,
          -50.74122619628906,
          24.07431411743164,
          42.94715118408203,
          -0.12397582083940506
         ],
         "z": [
          1.5863057374954224,
          -331.2115478515625,
          1.4994454383850098,
          643.05859375,
          69.0619888305664,
          27.088775634765625,
          -1.6460758447647095,
          22.64026641845703,
          4.419601917266846,
          -6.271777153015137,
          6.21613883972168,
          29.094093322753906,
          30.09120750427246,
          17.31012535095215,
          1.3383076190948486,
          -13.847347259521484,
          -4.11374044418335,
          6.23992395401001,
          -1.6075910329818726,
          9.095658302307129,
          0.4363963007926941,
          3.175629138946533,
          -0.32939794659614563,
          -170.34051513671875,
          1.4260337352752686,
          13.529630661010742,
          -3.0751523971557617,
          -1.3529542684555054,
          -9.058365821838379,
          9.293353080749512,
          -4.061695575714111,
          -0.2327316850423813,
          -4.285755634307861,
          10.775504112243652,
          -3.6734628677368164,
          -12.96087646484375,
          -4.004077434539795,
          -2.0014960765838623,
          -2.6640520095825195,
          -3.05808424949646,
          -14.82508659362793,
          -7.689311504364014,
          -4.824983596801758,
          -8.047264099121094,
          11.298819541931152,
          -5.774232864379883,
          -3.3253819942474365,
          5.815266132354736,
          -34.62234878540039,
          -3.6948373317718506,
          -6.582706451416016,
          6.8738203048706055,
          -0.255210280418396,
          5.508614540100098,
          -28.756874084472656,
          -0.062212176620960236,
          -2.1233367919921875,
          -7.763516902923584,
          33.626949310302734,
          29.65660858154297,
          -7.491766929626465,
          -10.94353199005127,
          -0.988317608833313,
          16.572927474975586,
          2.3286094665527344,
          -0.6663862466812134,
          -22.652015686035156,
          4.381901264190674,
          4.969189167022705,
          11.11130428314209,
          -28.74382781982422,
          -5.523446559906006,
          26.996044158935547,
          -22.969179153442383,
          9.395896911621094,
          36.26412582397461,
          4.7338056564331055,
          -35.15656280517578,
          -41.05546188354492,
          -5.814639091491699,
          -4.1432719230651855,
          50.52546691894531,
          -50.506866455078125,
          16.203933715820312,
          2.504950761795044,
          0.9136422872543335,
          45.36811447143555,
          29.424522399902344,
          -5.709321022033691,
          61.75812530517578,
          -31.205503463745117,
          -42.88739776611328,
          -19.868873596191406,
          0.7862053513526917,
          -26.246126174926758,
          66.44973754882812,
          -6.104698181152344,
          -60.08652114868164,
          7.675776958465576,
          -42.6507453918457,
          -2.4931063652038574,
          38.33964920043945,
          -6.713270664215088,
          -13.137284278869629,
          11.162971496582031,
          35.54072570800781,
          42.48406982421875,
          -14.989252090454102,
          -20.86914825439453,
          -11.482287406921387,
          -33.13877487182617,
          54.34944534301758,
          -10.007709503173828,
          -18.458768844604492,
          -7.770078659057617,
          0.5431721210479736,
          -46.042625427246094,
          5.705316066741943,
          -5.562068939208984,
          -41.54758071899414,
          -53.69989776611328,
          -6.748776435852051,
          -62.04594039916992,
          24.690000534057617,
          -16.609169006347656,
          -14.124661445617676,
          -59.79472732543945,
          -16.984413146972656,
          -58.27931213378906,
          15.271286010742188,
          18.753610610961914,
          5.708782196044922,
          -48.75092315673828,
          -15.229644775390625,
          -11.392797470092773,
          6.714463710784912,
          0.9284530282020569,
          55.407684326171875,
          -8.040836334228516,
          -15.633273124694824,
          18.919307708740234,
          -6.149413108825684,
          -52.568241119384766,
          5.706288814544678,
          32.537498474121094,
          39.97239685058594,
          -22.24027442932129,
          -25.104902267456055,
          -22.118194580078125,
          -15.298646926879883,
          -47.3266716003418,
          49.704437255859375,
          -1.2762542963027954,
          27.504785537719727,
          -36.36653137207031,
          38.0567626953125,
          26.60771369934082,
          -40.24988555908203,
          58.169334411621094,
          -3.363875389099121,
          9.171199798583984,
          -16.432388305664062,
          -31.56637191772461,
          -44.65816879272461,
          19.122318267822266,
          -4.158050060272217,
          -23.262191772460938,
          27.21213150024414,
          -7.793461322784424,
          -9.611892700195312,
          25.855003356933594,
          -4.896264553070068,
          -16.002355575561523,
          47.4453125,
          14.825677871704102,
          58.51365661621094,
          -0.3727291226387024,
          -3.1205732822418213,
          3.639094114303589,
          -13.052128791809082,
          55.63022994995117,
          -70.11158752441406,
          -61.312923431396484,
          4.002866744995117,
          -12.259794235229492,
          -38.90004348754883,
          -34.75485610961914,
          12.588804244995117,
          -15.639921188354492,
          -0.334158718585968,
          29.931671142578125,
          -28.772016525268555,
          -25.754301071166992,
          13.196950912475586,
          -55.41953659057617,
          28.657392501831055,
          -15.434735298156738,
          -14.859682083129883,
          -35.34733581542969,
          -28.533082962036133
         ]
        }
       ],
       "layout": {
        "legend": {
         "tracegroupgap": 0
        },
        "margin": {
         "t": 60
        },
        "scene": {
         "domain": {
          "x": [
           0,
           1
          ],
          "y": [
           0,
           1
          ]
         },
         "xaxis": {
          "title": {
           "text": "x"
          }
         },
         "yaxis": {
          "title": {
           "text": "y"
          }
         },
         "zaxis": {
          "title": {
           "text": "z"
          }
         }
        },
        "template": {
         "data": {
          "bar": [
           {
            "error_x": {
             "color": "#2a3f5f"
            },
            "error_y": {
             "color": "#2a3f5f"
            },
            "marker": {
             "line": {
              "color": "#E5ECF6",
              "width": 0.5
             },
             "pattern": {
              "fillmode": "overlay",
              "size": 10,
              "solidity": 0.2
             }
            },
            "type": "bar"
           }
          ],
          "barpolar": [
           {
            "marker": {
             "line": {
              "color": "#E5ECF6",
              "width": 0.5
             },
             "pattern": {
              "fillmode": "overlay",
              "size": 10,
              "solidity": 0.2
             }
            },
            "type": "barpolar"
           }
          ],
          "carpet": [
           {
            "aaxis": {
             "endlinecolor": "#2a3f5f",
             "gridcolor": "white",
             "linecolor": "white",
             "minorgridcolor": "white",
             "startlinecolor": "#2a3f5f"
            },
            "baxis": {
             "endlinecolor": "#2a3f5f",
             "gridcolor": "white",
             "linecolor": "white",
             "minorgridcolor": "white",
             "startlinecolor": "#2a3f5f"
            },
            "type": "carpet"
           }
          ],
          "choropleth": [
           {
            "colorbar": {
             "outlinewidth": 0,
             "ticks": ""
            },
            "type": "choropleth"
           }
          ],
          "contour": [
           {
            "colorbar": {
             "outlinewidth": 0,
             "ticks": ""
            },
            "colorscale": [
             [
              0,
              "#0d0887"
             ],
             [
              0.1111111111111111,
              "#46039f"
             ],
             [
              0.2222222222222222,
              "#7201a8"
             ],
             [
              0.3333333333333333,
              "#9c179e"
             ],
             [
              0.4444444444444444,
              "#bd3786"
             ],
             [
              0.5555555555555556,
              "#d8576b"
             ],
             [
              0.6666666666666666,
              "#ed7953"
             ],
             [
              0.7777777777777778,
              "#fb9f3a"
             ],
             [
              0.8888888888888888,
              "#fdca26"
             ],
             [
              1,
              "#f0f921"
             ]
            ],
            "type": "contour"
           }
          ],
          "contourcarpet": [
           {
            "colorbar": {
             "outlinewidth": 0,
             "ticks": ""
            },
            "type": "contourcarpet"
           }
          ],
          "heatmap": [
           {
            "colorbar": {
             "outlinewidth": 0,
             "ticks": ""
            },
            "colorscale": [
             [
              0,
              "#0d0887"
             ],
             [
              0.1111111111111111,
              "#46039f"
             ],
             [
              0.2222222222222222,
              "#7201a8"
             ],
             [
              0.3333333333333333,
              "#9c179e"
             ],
             [
              0.4444444444444444,
              "#bd3786"
             ],
             [
              0.5555555555555556,
              "#d8576b"
             ],
             [
              0.6666666666666666,
              "#ed7953"
             ],
             [
              0.7777777777777778,
              "#fb9f3a"
             ],
             [
              0.8888888888888888,
              "#fdca26"
             ],
             [
              1,
              "#f0f921"
             ]
            ],
            "type": "heatmap"
           }
          ],
          "heatmapgl": [
           {
            "colorbar": {
             "outlinewidth": 0,
             "ticks": ""
            },
            "colorscale": [
             [
              0,
              "#0d0887"
             ],
             [
              0.1111111111111111,
              "#46039f"
             ],
             [
              0.2222222222222222,
              "#7201a8"
             ],
             [
              0.3333333333333333,
              "#9c179e"
             ],
             [
              0.4444444444444444,
              "#bd3786"
             ],
             [
              0.5555555555555556,
              "#d8576b"
             ],
             [
              0.6666666666666666,
              "#ed7953"
             ],
             [
              0.7777777777777778,
              "#fb9f3a"
             ],
             [
              0.8888888888888888,
              "#fdca26"
             ],
             [
              1,
              "#f0f921"
             ]
            ],
            "type": "heatmapgl"
           }
          ],
          "histogram": [
           {
            "marker": {
             "pattern": {
              "fillmode": "overlay",
              "size": 10,
              "solidity": 0.2
             }
            },
            "type": "histogram"
           }
          ],
          "histogram2d": [
           {
            "colorbar": {
             "outlinewidth": 0,
             "ticks": ""
            },
            "colorscale": [
             [
              0,
              "#0d0887"
             ],
             [
              0.1111111111111111,
              "#46039f"
             ],
             [
              0.2222222222222222,
              "#7201a8"
             ],
             [
              0.3333333333333333,
              "#9c179e"
             ],
             [
              0.4444444444444444,
              "#bd3786"
             ],
             [
              0.5555555555555556,
              "#d8576b"
             ],
             [
              0.6666666666666666,
              "#ed7953"
             ],
             [
              0.7777777777777778,
              "#fb9f3a"
             ],
             [
              0.8888888888888888,
              "#fdca26"
             ],
             [
              1,
              "#f0f921"
             ]
            ],
            "type": "histogram2d"
           }
          ],
          "histogram2dcontour": [
           {
            "colorbar": {
             "outlinewidth": 0,
             "ticks": ""
            },
            "colorscale": [
             [
              0,
              "#0d0887"
             ],
             [
              0.1111111111111111,
              "#46039f"
             ],
             [
              0.2222222222222222,
              "#7201a8"
             ],
             [
              0.3333333333333333,
              "#9c179e"
             ],
             [
              0.4444444444444444,
              "#bd3786"
             ],
             [
              0.5555555555555556,
              "#d8576b"
             ],
             [
              0.6666666666666666,
              "#ed7953"
             ],
             [
              0.7777777777777778,
              "#fb9f3a"
             ],
             [
              0.8888888888888888,
              "#fdca26"
             ],
             [
              1,
              "#f0f921"
             ]
            ],
            "type": "histogram2dcontour"
           }
          ],
          "mesh3d": [
           {
            "colorbar": {
             "outlinewidth": 0,
             "ticks": ""
            },
            "type": "mesh3d"
           }
          ],
          "parcoords": [
           {
            "line": {
             "colorbar": {
              "outlinewidth": 0,
              "ticks": ""
             }
            },
            "type": "parcoords"
           }
          ],
          "pie": [
           {
            "automargin": true,
            "type": "pie"
           }
          ],
          "scatter": [
           {
            "fillpattern": {
             "fillmode": "overlay",
             "size": 10,
             "solidity": 0.2
            },
            "type": "scatter"
           }
          ],
          "scatter3d": [
           {
            "line": {
             "colorbar": {
              "outlinewidth": 0,
              "ticks": ""
             }
            },
            "marker": {
             "colorbar": {
              "outlinewidth": 0,
              "ticks": ""
             }
            },
            "type": "scatter3d"
           }
          ],
          "scattercarpet": [
           {
            "marker": {
             "colorbar": {
              "outlinewidth": 0,
              "ticks": ""
             }
            },
            "type": "scattercarpet"
           }
          ],
          "scattergeo": [
           {
            "marker": {
             "colorbar": {
              "outlinewidth": 0,
              "ticks": ""
             }
            },
            "type": "scattergeo"
           }
          ],
          "scattergl": [
           {
            "marker": {
             "colorbar": {
              "outlinewidth": 0,
              "ticks": ""
             }
            },
            "type": "scattergl"
           }
          ],
          "scattermapbox": [
           {
            "marker": {
             "colorbar": {
              "outlinewidth": 0,
              "ticks": ""
             }
            },
            "type": "scattermapbox"
           }
          ],
          "scatterpolar": [
           {
            "marker": {
             "colorbar": {
              "outlinewidth": 0,
              "ticks": ""
             }
            },
            "type": "scatterpolar"
           }
          ],
          "scatterpolargl": [
           {
            "marker": {
             "colorbar": {
              "outlinewidth": 0,
              "ticks": ""
             }
            },
            "type": "scatterpolargl"
           }
          ],
          "scatterternary": [
           {
            "marker": {
             "colorbar": {
              "outlinewidth": 0,
              "ticks": ""
             }
            },
            "type": "scatterternary"
           }
          ],
          "surface": [
           {
            "colorbar": {
             "outlinewidth": 0,
             "ticks": ""
            },
            "colorscale": [
             [
              0,
              "#0d0887"
             ],
             [
              0.1111111111111111,
              "#46039f"
             ],
             [
              0.2222222222222222,
              "#7201a8"
             ],
             [
              0.3333333333333333,
              "#9c179e"
             ],
             [
              0.4444444444444444,
              "#bd3786"
             ],
             [
              0.5555555555555556,
              "#d8576b"
             ],
             [
              0.6666666666666666,
              "#ed7953"
             ],
             [
              0.7777777777777778,
              "#fb9f3a"
             ],
             [
              0.8888888888888888,
              "#fdca26"
             ],
             [
              1,
              "#f0f921"
             ]
            ],
            "type": "surface"
           }
          ],
          "table": [
           {
            "cells": {
             "fill": {
              "color": "#EBF0F8"
             },
             "line": {
              "color": "white"
             }
            },
            "header": {
             "fill": {
              "color": "#C8D4E3"
             },
             "line": {
              "color": "white"
             }
            },
            "type": "table"
           }
          ]
         },
         "layout": {
          "annotationdefaults": {
           "arrowcolor": "#2a3f5f",
           "arrowhead": 0,
           "arrowwidth": 1
          },
          "autotypenumbers": "strict",
          "coloraxis": {
           "colorbar": {
            "outlinewidth": 0,
            "ticks": ""
           }
          },
          "colorscale": {
           "diverging": [
            [
             0,
             "#8e0152"
            ],
            [
             0.1,
             "#c51b7d"
            ],
            [
             0.2,
             "#de77ae"
            ],
            [
             0.3,
             "#f1b6da"
            ],
            [
             0.4,
             "#fde0ef"
            ],
            [
             0.5,
             "#f7f7f7"
            ],
            [
             0.6,
             "#e6f5d0"
            ],
            [
             0.7,
             "#b8e186"
            ],
            [
             0.8,
             "#7fbc41"
            ],
            [
             0.9,
             "#4d9221"
            ],
            [
             1,
             "#276419"
            ]
           ],
           "sequential": [
            [
             0,
             "#0d0887"
            ],
            [
             0.1111111111111111,
             "#46039f"
            ],
            [
             0.2222222222222222,
             "#7201a8"
            ],
            [
             0.3333333333333333,
             "#9c179e"
            ],
            [
             0.4444444444444444,
             "#bd3786"
            ],
            [
             0.5555555555555556,
             "#d8576b"
            ],
            [
             0.6666666666666666,
             "#ed7953"
            ],
            [
             0.7777777777777778,
             "#fb9f3a"
            ],
            [
             0.8888888888888888,
             "#fdca26"
            ],
            [
             1,
             "#f0f921"
            ]
           ],
           "sequentialminus": [
            [
             0,
             "#0d0887"
            ],
            [
             0.1111111111111111,
             "#46039f"
            ],
            [
             0.2222222222222222,
             "#7201a8"
            ],
            [
             0.3333333333333333,
             "#9c179e"
            ],
            [
             0.4444444444444444,
             "#bd3786"
            ],
            [
             0.5555555555555556,
             "#d8576b"
            ],
            [
             0.6666666666666666,
             "#ed7953"
            ],
            [
             0.7777777777777778,
             "#fb9f3a"
            ],
            [
             0.8888888888888888,
             "#fdca26"
            ],
            [
             1,
             "#f0f921"
            ]
           ]
          },
          "colorway": [
           "#636efa",
           "#EF553B",
           "#00cc96",
           "#ab63fa",
           "#FFA15A",
           "#19d3f3",
           "#FF6692",
           "#B6E880",
           "#FF97FF",
           "#FECB52"
          ],
          "font": {
           "color": "#2a3f5f"
          },
          "geo": {
           "bgcolor": "white",
           "lakecolor": "white",
           "landcolor": "#E5ECF6",
           "showlakes": true,
           "showland": true,
           "subunitcolor": "white"
          },
          "hoverlabel": {
           "align": "left"
          },
          "hovermode": "closest",
          "mapbox": {
           "style": "light"
          },
          "paper_bgcolor": "white",
          "plot_bgcolor": "#E5ECF6",
          "polar": {
           "angularaxis": {
            "gridcolor": "white",
            "linecolor": "white",
            "ticks": ""
           },
           "bgcolor": "#E5ECF6",
           "radialaxis": {
            "gridcolor": "white",
            "linecolor": "white",
            "ticks": ""
           }
          },
          "scene": {
           "xaxis": {
            "backgroundcolor": "#E5ECF6",
            "gridcolor": "white",
            "gridwidth": 2,
            "linecolor": "white",
            "showbackground": true,
            "ticks": "",
            "zerolinecolor": "white"
           },
           "yaxis": {
            "backgroundcolor": "#E5ECF6",
            "gridcolor": "white",
            "gridwidth": 2,
            "linecolor": "white",
            "showbackground": true,
            "ticks": "",
            "zerolinecolor": "white"
           },
           "zaxis": {
            "backgroundcolor": "#E5ECF6",
            "gridcolor": "white",
            "gridwidth": 2,
            "linecolor": "white",
            "showbackground": true,
            "ticks": "",
            "zerolinecolor": "white"
           }
          },
          "shapedefaults": {
           "line": {
            "color": "#2a3f5f"
           }
          },
          "ternary": {
           "aaxis": {
            "gridcolor": "white",
            "linecolor": "white",
            "ticks": ""
           },
           "baxis": {
            "gridcolor": "white",
            "linecolor": "white",
            "ticks": ""
           },
           "bgcolor": "#E5ECF6",
           "caxis": {
            "gridcolor": "white",
            "linecolor": "white",
            "ticks": ""
           }
          },
          "title": {
           "x": 0.05
          },
          "xaxis": {
           "automargin": true,
           "gridcolor": "white",
           "linecolor": "white",
           "ticks": "",
           "title": {
            "standoff": 15
           },
           "zerolinecolor": "white",
           "zerolinewidth": 2
          },
          "yaxis": {
           "automargin": true,
           "gridcolor": "white",
           "linecolor": "white",
           "ticks": "",
           "title": {
            "standoff": 15
           },
           "zerolinecolor": "white",
           "zerolinewidth": 2
          }
         }
        }
       }
      }
     },
     "metadata": {},
     "output_type": "display_data"
    }
   ],
   "source": [
    "# Graficar los embedddings en 3D\n",
    "\n",
    "vecs, labels = reduce_dimensions(w2v_model,3)\n",
    "\n",
    "fig = px.scatter_3d(x=vecs[:MAX_WORDS,0], y=vecs[:MAX_WORDS,1], z=vecs[:MAX_WORDS,2],text=labels[:MAX_WORDS])\n",
    "fig.update_traces(marker_size = 2)\n",
    "fig.show()\n",
    "#fig.show(renderer=\"colab\") # esto para plotly en colab"
   ]
  },
  {
   "cell_type": "markdown",
   "metadata": {},
   "source": [
    "#### test de analogías"
   ]
  },
  {
   "cell_type": "code",
   "execution_count": 139,
   "metadata": {},
   "outputs": [
    {
     "data": {
      "text/plain": [
       "0.3106563"
      ]
     },
     "execution_count": 139,
     "metadata": {},
     "output_type": "execute_result"
    }
   ],
   "source": [
    "# Palabras a testear\n",
    "test_words = ['prayer', 'god', 'sacrifice', 'altar']\n",
    "\n",
    "w2v_model.wv.n_similarity(['prayer', 'god'], ['sacrifice', 'altar']) # Compute cosine similarity between two sets of keys."
   ]
  },
  {
   "cell_type": "markdown",
   "metadata": {},
   "source": [
    "Existe algo de similitud en: 'orador' es a 'dios' com 'sacrificio' es a 'altar'."
   ]
  },
  {
   "cell_type": "code",
   "execution_count": 140,
   "metadata": {},
   "outputs": [],
   "source": [
    "# vectores de las distintas palabras\n",
    "vector_prayer = w2v_model.wv.get_vector(test_words[0])\n",
    "vector_god = w2v_model.wv.get_vector(test_words[1])\n",
    "vector_sacrifice = w2v_model.wv.get_vector(test_words[2])\n",
    "vector_altar = w2v_model.wv.get_vector(test_words[3])\n",
    "\n",
    "vector_calculated = vector_god - vector_prayer + vector_sacrifice"
   ]
  },
  {
   "cell_type": "code",
   "execution_count": 141,
   "metadata": {},
   "outputs": [
    {
     "data": {
      "text/plain": [
       "[('god', 0.6052222847938538),\n",
       " ('sacrifice', 0.5744054317474365),\n",
       " ('nativity', 0.24366821348667145),\n",
       " ('goddess', 0.24013923108577728),\n",
       " ('fatted', 0.23854634165763855),\n",
       " ('whoring', 0.233870729804039),\n",
       " ('sacrificed', 0.23130129277706146),\n",
       " ('Sepharvaim', 0.23075631260871887),\n",
       " ('idol', 0.23040224611759186),\n",
       " ('gotten', 0.2302839756011963)]"
      ]
     },
     "execution_count": 141,
     "metadata": {},
     "output_type": "execute_result"
    }
   ],
   "source": [
    "w2v_model.wv.similar_by_vector(vector_calculated, topn=10)"
   ]
  },
  {
   "cell_type": "markdown",
   "metadata": {},
   "source": [
    "Lo ideal hubiese sido obtener 'altar'. Se obtuvieron palabras mas relacionadas con 'sacrifice.'"
   ]
  },
  {
   "cell_type": "code",
   "execution_count": 142,
   "metadata": {},
   "outputs": [
    {
     "data": {
      "text/plain": [
       "[('altar', 1.0000001192092896),\n",
       " ('grate', 0.4143572151660919),\n",
       " ('laver', 0.34282809495925903),\n",
       " ('tip', 0.33003225922584534),\n",
       " ('shittim', 0.32814842462539673),\n",
       " ('superscription', 0.32796451449394226),\n",
       " ('socket', 0.32708683609962463),\n",
       " ('sprinkle', 0.3238252103328705),\n",
       " ('badger', 0.32369062304496765),\n",
       " ('board', 0.3221045136451721)]"
      ]
     },
     "execution_count": 142,
     "metadata": {},
     "output_type": "execute_result"
    }
   ],
   "source": [
    "w2v_model.wv.most_similar(vector_altar)"
   ]
  },
  {
   "cell_type": "markdown",
   "metadata": {},
   "source": [
    "No hay ni una palabra en común entre el vector_altar y el vector_calculated."
   ]
  },
  {
   "cell_type": "code",
   "execution_count": 136,
   "metadata": {},
   "outputs": [
    {
     "data": {
      "text/plain": [
       "0.13209791"
      ]
     },
     "execution_count": 136,
     "metadata": {},
     "output_type": "execute_result"
    }
   ],
   "source": [
    "# similitud coseno entre ambos vectores:\n",
    "np.dot(vector_altar, vector_calculated) / (np.linalg.norm(vector_altar) * np.linalg.norm(vector_calculated))"
   ]
  },
  {
   "cell_type": "code",
   "execution_count": 145,
   "metadata": {},
   "outputs": [
    {
     "name": "stdout",
     "output_type": "stream",
     "text": [
      "'light' es a 'darkness' como 'truth' es a 'falsehood':\n",
      "Esperado: falsehood\n",
      "Calculado:\n",
      "[('truth', 0.6526095271110535), ('light', 0.4564918279647827), ('Elias', 0.24968954920768738), ('sincerity', 0.24338467419147491), ('murmured', 0.24073129892349243)]\n",
      "\n",
      "\n",
      "Una o más palabras en la analogía 'peace - tranquility + war = conflict' no están en el vocabulario del modelo.\n",
      "'sin' es a 'repentance' como 'disobedience' es a 'forgiveness':\n",
      "Esperado: forgiveness\n",
      "Calculado:\n",
      "[('disobedience', 0.5027846693992615), ('sin', 0.4916175305843353), ('rewardeth', 0.26877421140670776), ('flank', 0.26695147156715393), ('furious', 0.2584933042526245)]\n",
      "\n",
      "\n",
      "'worship' es a 'praise' como 'prayer' es a 'supplication':\n",
      "Esperado: supplication\n",
      "Calculado:\n",
      "[('prayer', 0.648455023765564), ('worship', 0.5898996591567993), ('supplication', 0.2981862723827362), ('wickedness', 0.28426113724708557), ('trance', 0.25848641991615295)]\n",
      "\n",
      "\n",
      "Una o más palabras en la analogía 'sabbath - rest + work = labor' no están en el vocabulario del modelo.\n",
      "'blessing' es a 'grace' como 'curse' es a 'judgment':\n",
      "Esperado: judgment\n",
      "Calculado:\n",
      "[('curse', 0.7206968069076538), ('blessing', 0.6329814791679382), ('hissing', 0.27876797318458557), ('digged', 0.26952889561653137), ('curseth', 0.24505174160003662)]\n",
      "\n",
      "\n",
      "'covenant' es a 'promise' como 'sacrifice' es a 'offering':\n",
      "Esperado: offering\n",
      "Calculado:\n",
      "[('sacrifice', 0.614072322845459), ('covenant', 0.45735007524490356), ('confusion', 0.24576713144779205), ('prepare', 0.24450695514678955), ('remainder', 0.24255231022834778)]\n",
      "\n",
      "\n"
     ]
    }
   ],
   "source": [
    "# Otras analogias que haremos\n",
    "analogies = [\n",
    "    (\"light\", \"darkness\", \"truth\", \"falsehood\"),\n",
    "    (\"peace\", \"tranquility\", \"war\", \"conflict\"),\n",
    "    (\"sin\", \"repentance\", \"disobedience\", \"forgiveness\"),\n",
    "    (\"worship\", \"praise\", \"prayer\", \"supplication\"),\n",
    "    (\"blessing\", \"grace\", \"curse\", \"judgment\"),\n",
    "    (\"covenant\", \"promise\", \"sacrifice\", \"offering\")\n",
    "]\n",
    "\n",
    "def cosine_similarity(vec1, vec2):\n",
    "\n",
    "    return np.dot(vec1, vec2) / (np.linalg.norm(vec1) * np.linalg.norm(vec2))\n",
    "\n",
    "# Evaluamos las analogías\n",
    "for word1, word2, word3, expected in analogies: # recorremos las analogias\n",
    "\n",
    "    if all(word in w2v_model.wv for word in [word1, word2, word3, expected]): # nos fijamos si las palabras existen\n",
    "\n",
    "        # hacemos el testeo\n",
    "        vector_calculated = w2v_model.wv[word1] - w2v_model.wv[word2] + w2v_model.wv[word3]\n",
    "\n",
    "        # nos quedamos con el primer valor\n",
    "        most_similar = w2v_model.wv.similar_by_vector(vector_calculated, topn=5)\n",
    "\n",
    "        # calculamos la similitud entre el valor esperado y el calculado\n",
    "        similarity = cosine_similarity(vector_calculated, w2v_model.wv[expected])\n",
    "        \n",
    "        print(f\"'{word1}' es a '{word2}' como '{word3}' es a '{expected}':\")\n",
    "        print(f\"Esperado: {expected}\")\n",
    "        print(f\"Calculado:\")\n",
    "        print(most_similar)\n",
    "        print(\"\\n\")\n",
    "\n",
    "    else:\n",
    "        print(f\"Una o más palabras en la analogía '{word1} - {word2} + {word3} = {expected}' no están en el vocabulario del modelo.\")\n"
   ]
  },
  {
   "cell_type": "markdown",
   "metadata": {},
   "source": [
    "Para el caso de 'supplication' se predijo 'supplication' entre los resultados.  \n",
    "   \n",
    "Igualmente, en todos los casos obtenemos resultados para la palabra que esta relacionada con la objetivo, no propiamente con la palabra objetivo. Esto es, por ejemplo:  \n",
    "- En el primer caso, se obtienen mas resultados acertados a 'truth' que 'falsehood'."
   ]
  }
 ],
 "metadata": {
  "kernelspec": {
   "display_name": "nlp",
   "language": "python",
   "name": "python3"
  },
  "language_info": {
   "codemirror_mode": {
    "name": "ipython",
    "version": 3
   },
   "file_extension": ".py",
   "mimetype": "text/x-python",
   "name": "python",
   "nbconvert_exporter": "python",
   "pygments_lexer": "ipython3",
   "version": "3.10.9"
  }
 },
 "nbformat": 4,
 "nbformat_minor": 2
}
